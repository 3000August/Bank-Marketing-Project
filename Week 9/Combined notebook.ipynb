{
 "cells": [
  {
   "cell_type": "markdown",
   "id": "6c1b43af",
   "metadata": {},
   "source": [
    " ## Import Libraries "
   ]
  },
  {
   "cell_type": "code",
   "execution_count": null,
   "id": "0b966ac9",
   "metadata": {},
   "outputs": [],
   "source": [
    "import pandas as pd\n",
    "import matplotlib.pyplot as plt\n",
    "import seaborn as sns\n",
    "import numpy as np"
   ]
  },
  {
   "cell_type": "code",
   "execution_count": null,
   "id": "9cf17b41",
   "metadata": {},
   "outputs": [],
   "source": [
    "import warnings\n",
    "warnings.filterwarnings('ignore')"
   ]
  },
  {
   "cell_type": "markdown",
   "id": "a6924e99",
   "metadata": {},
   "source": [
    "## Data Ingestion files"
   ]
  },
  {
   "cell_type": "markdown",
   "id": "b85955a5",
   "metadata": {},
   "source": [
    "### Testutility file"
   ]
  },
  {
   "cell_type": "code",
   "execution_count": null,
   "id": "b4b3b6f1",
   "metadata": {},
   "outputs": [],
   "source": [
    "%%writefile testutility.py\n",
    "import logging\n",
    "import os\n",
    "import subprocess\n",
    "import yaml \n",
    "import pandas as pd\n",
    "import datetime\n",
    "import gc\n",
    "import re\n",
    "\n",
    "#################\n",
    "# File Reading #\n",
    "#################\n",
    "\n",
    "def read_config_file(filepath):\n",
    "  with open(filepath, \"r\") as stream:\n",
    "    try:\n",
    "      return yaml.safe_load(stream)\n",
    "    except yaml.YAMLError as exc:\n",
    "      logging.error(exc)"
   ]
  },
  {
   "cell_type": "markdown",
   "id": "42e6f7aa",
   "metadata": {},
   "source": [
    "### Yaml file"
   ]
  },
  {
   "cell_type": "code",
   "execution_count": null,
   "id": "3da5a40f",
   "metadata": {},
   "outputs": [],
   "source": [
    "%%writefile file.yaml\n",
    "file_type: csv\n",
    "dataset_name: testfile\n",
    "file_name: bank-additional-full\n",
    "table_name: edsurv\n",
    "inbound_delimeter: \";\"\n",
    "outbound_delimeter: \"|\""
   ]
  },
  {
   "cell_type": "markdown",
   "id": "aa9e63ea",
   "metadata": {},
   "source": [
    "## Prepare Data"
   ]
  },
  {
   "cell_type": "code",
   "execution_count": null,
   "id": "8808e95c",
   "metadata": {},
   "outputs": [],
   "source": [
    "# Read Config file\n",
    "import testutility as util\n",
    "config_data = util.read_config_file(\"file.yaml\")"
   ]
  },
  {
   "cell_type": "code",
   "execution_count": null,
   "id": "74e99762",
   "metadata": {},
   "outputs": [],
   "source": [
    "config_data[\"file_name\"]"
   ]
  },
  {
   "cell_type": "code",
   "execution_count": null,
   "id": "22fc4a06",
   "metadata": {},
   "outputs": [],
   "source": [
    "# read the files using config file\n",
    "file_type = config_data[\"file_type\"]\n",
    "source_file = \"./\" + config_data[\"file_name\"] + f\".{file_type}\"\n",
    "\n",
    "# print(\"\", source_file)\n",
    "df = pd.read_csv(source_file, config_data[\"inbound_delimeter\"])"
   ]
  },
  {
   "cell_type": "code",
   "execution_count": null,
   "id": "d109f077",
   "metadata": {},
   "outputs": [],
   "source": [
    "df.shape"
   ]
  },
  {
   "cell_type": "code",
   "execution_count": null,
   "id": "d84903d7",
   "metadata": {},
   "outputs": [],
   "source": [
    "df.head()"
   ]
  },
  {
   "cell_type": "code",
   "execution_count": null,
   "id": "cd7ee491",
   "metadata": {},
   "outputs": [],
   "source": [
    "df.info()"
   ]
  },
  {
   "cell_type": "code",
   "execution_count": null,
   "id": "11d5cc0f",
   "metadata": {},
   "outputs": [],
   "source": [
    "import os\n",
    "def summary(df, source_file):\n",
    "    rows = len(df)\n",
    "    columns = len(df.columns)\n",
    "    print(f\"Number of Rows: {rows}\")\n",
    "    print(f\"Number of Columns: {columns}\")\n",
    "    file_size = os.path.getsize(source_file)\n",
    "    print(f\"Size: {file_size} bytes\")"
   ]
  },
  {
   "cell_type": "code",
   "execution_count": null,
   "id": "d486a142",
   "metadata": {},
   "outputs": [],
   "source": [
    "summary(df, source_file)"
   ]
  },
  {
   "cell_type": "code",
   "execution_count": null,
   "id": "778f8ee5",
   "metadata": {},
   "outputs": [],
   "source": [
    "df.columns"
   ]
  },
  {
   "cell_type": "code",
   "execution_count": null,
   "id": "63f9516c",
   "metadata": {},
   "outputs": [],
   "source": [
    "df.duplicated().sum()"
   ]
  },
  {
   "cell_type": "markdown",
   "id": "4dff70ca",
   "metadata": {},
   "source": [
    "Here we have 41k records. So removing record will not affect our existing dataset. So we have drop 12 duplicate records."
   ]
  },
  {
   "cell_type": "code",
   "execution_count": null,
   "id": "1a2a38c0",
   "metadata": {},
   "outputs": [],
   "source": [
    "df = df.drop_duplicates()"
   ]
  },
  {
   "cell_type": "code",
   "execution_count": null,
   "id": "bf88cd00",
   "metadata": {},
   "outputs": [],
   "source": [
    "df.dtypes"
   ]
  },
  {
   "cell_type": "code",
   "execution_count": null,
   "id": "5b6bbff5",
   "metadata": {},
   "outputs": [],
   "source": [
    "df.duplicated().sum()"
   ]
  },
  {
   "cell_type": "code",
   "execution_count": null,
   "id": "12caf01e",
   "metadata": {
    "scrolled": true
   },
   "outputs": [],
   "source": [
    "df.isna().sum()"
   ]
  },
  {
   "cell_type": "markdown",
   "id": "4d3091d8",
   "metadata": {},
   "source": [
    "Now, as per above result,  we can see there is no any duplicate value nor null value."
   ]
  },
  {
   "cell_type": "markdown",
   "id": "9223cd72",
   "metadata": {},
   "source": [
    "## Understand Data"
   ]
  },
  {
   "cell_type": "markdown",
   "id": "ab2e96f0",
   "metadata": {},
   "source": [
    "### Variable Types"
   ]
  },
  {
   "cell_type": "markdown",
   "id": "e951d49b",
   "metadata": {},
   "source": [
    "#### Target Variable"
   ]
  },
  {
   "cell_type": "code",
   "execution_count": null,
   "id": "255c7da3",
   "metadata": {},
   "outputs": [],
   "source": [
    "target_var = ['y']\n",
    "target = df[target_var]\n",
    "target_var"
   ]
  },
  {
   "cell_type": "code",
   "execution_count": null,
   "id": "9cb0992a",
   "metadata": {},
   "outputs": [],
   "source": [
    "target.value_counts(normalize=True).plot(kind=\"bar\", ylabel = \"% outcomes\", title = \"Target y\")"
   ]
  },
  {
   "cell_type": "markdown",
   "id": "4fb1033d",
   "metadata": {},
   "source": [
    "The data suggest an imbalance in the target variable. This can affect the performance of our model so an oversampling technique must be applied before model building. "
   ]
  },
  {
   "cell_type": "markdown",
   "id": "b95deabe",
   "metadata": {},
   "source": [
    "#### Categorical Variables"
   ]
  },
  {
   "cell_type": "code",
   "execution_count": null,
   "id": "483afa60",
   "metadata": {},
   "outputs": [],
   "source": [
    "categorical_var = [var for var in df.columns \n",
    "                   if df[var].dtype==\"O\" and \n",
    "                   var not in target_var and \n",
    "                   var not in [\"month\"]]\n",
    "categorical_var"
   ]
  },
  {
   "cell_type": "code",
   "execution_count": null,
   "id": "5b59cca4",
   "metadata": {},
   "outputs": [],
   "source": [
    "# let's explore the values of these categorical variables\n",
    "for var in categorical_var:\n",
    "    print(var, df[var].unique())\n",
    "    print()"
   ]
  },
  {
   "cell_type": "code",
   "execution_count": null,
   "id": "4a561800",
   "metadata": {},
   "outputs": [],
   "source": [
    "for var in categorical_var:\n",
    "    \n",
    "    plt.figure(figsize=(12,4))\n",
    "    \n",
    "    # plot transformed variable vs sale price\n",
    "    df[var].value_counts(normalize = True).plot(\n",
    "    kind=\"bar\",\n",
    "    xlabel=f\"{var}\",\n",
    "    ylabel=\"% Phone calls\",\n",
    "    title=f\"Calls by {var}\"\n",
    "    )\n",
    "                \n",
    "    plt.show()"
   ]
  },
  {
   "cell_type": "markdown",
   "id": "f8d35358",
   "metadata": {},
   "source": [
    "#### Numeric Variables"
   ]
  },
  {
   "cell_type": "code",
   "execution_count": null,
   "id": "945f6fb4",
   "metadata": {},
   "outputs": [],
   "source": [
    "numerical_var = [var for var in df.columns if var not in categorical_var + target_var]\n",
    "numerical_var"
   ]
  },
  {
   "cell_type": "markdown",
   "id": "67e8e853",
   "metadata": {},
   "source": [
    "#### Temporal Variables "
   ]
  },
  {
   "cell_type": "code",
   "execution_count": null,
   "id": "f3390a4b",
   "metadata": {},
   "outputs": [],
   "source": [
    "temporal_var = [var for var in df.columns if var ==\"month\" or var==\"day_of_week\"]\n",
    "temporal_var"
   ]
  },
  {
   "cell_type": "markdown",
   "id": "f7ba3617",
   "metadata": {},
   "source": [
    "#### Discreete Variable "
   ]
  },
  {
   "cell_type": "code",
   "execution_count": null,
   "id": "b21eb68d",
   "metadata": {},
   "outputs": [],
   "source": [
    "discrete_var = [var for var in numerical_var if len(df[var].unique()) < 32 and var not in temporal_var]\n",
    "discrete_var"
   ]
  },
  {
   "cell_type": "markdown",
   "id": "ee67f036",
   "metadata": {},
   "source": [
    "##### Continuous variables "
   ]
  },
  {
   "cell_type": "code",
   "execution_count": null,
   "id": "51f5b235",
   "metadata": {},
   "outputs": [],
   "source": [
    "# make list of continuous variables\n",
    "continuous_var = [\n",
    "    var for var in numerical_var if var not in discrete_var+temporal_var]\n",
    "continuous_var"
   ]
  },
  {
   "cell_type": "code",
   "execution_count": null,
   "id": "15ac4693",
   "metadata": {},
   "outputs": [],
   "source": [
    "# let's explore the values of these temporal variables\n",
    "\n",
    "for var in continuous_var:\n",
    "    print(var, df[var].unique())\n",
    "    print()"
   ]
  },
  {
   "cell_type": "code",
   "execution_count": null,
   "id": "421e3258",
   "metadata": {},
   "outputs": [],
   "source": [
    "# lets plot histograms for all continuous variables\n",
    "df[continuous_var].hist(bins=30, figsize=(15,15))\n",
    "plt.show()"
   ]
  },
  {
   "cell_type": "code",
   "execution_count": null,
   "id": "bb6c5c6f",
   "metadata": {},
   "outputs": [],
   "source": [
    "# let's explore the values of these discrete variables\n",
    "\n",
    "for var in discrete_var:\n",
    "    print(var, df[var].unique())\n",
    "    print()"
   ]
  },
  {
   "cell_type": "code",
   "execution_count": null,
   "id": "80f76e3d",
   "metadata": {},
   "outputs": [],
   "source": [
    "for var in discrete_var:\n",
    "    \n",
    "    plt.figure(figsize=(12,4))\n",
    "    \n",
    "    # plot transformed variable vs sale price\n",
    "    df[var].value_counts(normalize = True, sort = False).plot(\n",
    "    kind=\"bar\",\n",
    "    xlabel=f\"{var}\",\n",
    "    ylabel=\"% Phone Calls\",\n",
    "    title=f\"Calls by {var}\"\n",
    "    )\n",
    "                \n",
    "    plt.show()"
   ]
  },
  {
   "cell_type": "code",
   "execution_count": null,
   "id": "3ed16884",
   "metadata": {},
   "outputs": [],
   "source": [
    "# let's explore the values of these temporal variables\n",
    "\n",
    "for var in temporal_var:\n",
    "    print(var, df[var].unique())\n",
    "    print()"
   ]
  },
  {
   "cell_type": "code",
   "execution_count": null,
   "id": "687d3345",
   "metadata": {},
   "outputs": [],
   "source": [
    "for var in temporal_var:\n",
    "    \n",
    "    plt.figure(figsize=(12,4))\n",
    "    \n",
    "    # plot transformed variable vs sale price\n",
    "    df[var].value_counts(normalize = True, sort = False).plot(\n",
    "    kind=\"bar\",\n",
    "    xlabel=f\"{var}\",\n",
    "    ylabel=\"% Phone Calls\",\n",
    "    title=f\"Calls by {var}\"\n",
    "    )\n",
    "                \n",
    "    plt.show()"
   ]
  },
  {
   "cell_type": "markdown",
   "id": "67da688d",
   "metadata": {},
   "source": [
    "## Cleaning and Transformation"
   ]
  },
  {
   "cell_type": "markdown",
   "id": "9353163d",
   "metadata": {},
   "source": [
    "NOTES:\n",
    "- Duration is a variable we can explore during EDA for business purposes to decide if we should try engaging the person for longer time on the call or not. This variable should not be included in the model becuase Duration is obtained after the call is made to the potential client so if the target client has never received calls, this feature is not very useful.\n",
    "- month mapped to numerical values and another column of day-month can be generated for EDA in furture.\n",
    "- No missing values but there are some with unknown values in loan housing etc. Consider deleting them\n",
    "- There is a 999 value existing in pdays column meaning the customer has not been contacted before. We should change it to 0\n",
    "- Education column has some values which contain \".\" character which can be cleaned.\n",
    "- Outliers need to be handled\n",
    "- Age column can be log transformed"
   ]
  },
  {
   "cell_type": "markdown",
   "id": "8bf120c6",
   "metadata": {},
   "source": [
    "### Cleaning Education values"
   ]
  },
  {
   "cell_type": "code",
   "execution_count": null,
   "id": "5be37524",
   "metadata": {},
   "outputs": [],
   "source": [
    "df['education'].replace({'basic.4y' : 'basic 4y', 'basic.6y' : 'basic 6y', 'basic.9y' : 'basic 9y', 'high.school' : 'high school', 'professional.course' : 'professional course', 'university.degree' : 'university degree'}, inplace = True)\n",
    "df['job'].replace({'admin.' : 'admin'}, inplace = True)\n",
    "df.head(n=40)"
   ]
  },
  {
   "cell_type": "code",
   "execution_count": null,
   "id": "783cf01c",
   "metadata": {},
   "outputs": [],
   "source": [
    "df['education'].unique()"
   ]
  },
  {
   "cell_type": "markdown",
   "id": "289eb32d",
   "metadata": {},
   "source": [
    "### Missing Values"
   ]
  },
  {
   "cell_type": "code",
   "execution_count": null,
   "id": "b45ecd7d",
   "metadata": {},
   "outputs": [],
   "source": [
    "df.isnull().sum()"
   ]
  },
  {
   "cell_type": "markdown",
   "id": "b24c3872",
   "metadata": {},
   "source": [
    "Fortunately, there are no missing values in the dataset. However, after exploring we find that 5 of the categorical variables have an \"unknown\" value. Those are the only missing values which do not need to be dealt with for now as the \"unknown\" category is already created for them. However, deleting them will not affect the dataset so much as they constitute a very small proportion of the dataset. So, we will consider deleting them."
   ]
  },
  {
   "cell_type": "code",
   "execution_count": null,
   "id": "1d1367d1",
   "metadata": {},
   "outputs": [],
   "source": [
    "# To handle the missing values, we first turn the 'unknown' observations to NaNs\n",
    "df = df.replace('unknown', np.nan)\n",
    "df.isnull().sum()"
   ]
  },
  {
   "cell_type": "code",
   "execution_count": null,
   "id": "2935e6a7",
   "metadata": {},
   "outputs": [],
   "source": [
    "#using partial deletion of the missing values on the job and marital attributes as those attributes do not show a strong relationship between the known/unknown status and target response.\n",
    "df = df.dropna(subset=['job', 'marital'])"
   ]
  },
  {
   "cell_type": "markdown",
   "id": "6b2227d8",
   "metadata": {},
   "source": [
    "### Mapping month column"
   ]
  },
  {
   "cell_type": "code",
   "execution_count": null,
   "id": "47757faa",
   "metadata": {},
   "outputs": [],
   "source": [
    "m = {'jan':1, 'feb':2, 'mar':3, 'apr':4, 'may':5, 'jun':6, 'jul':7, 'aug':8, 'sep':9, 'oct':10, 'nov':11, 'dec':12}"
   ]
  },
  {
   "cell_type": "code",
   "execution_count": null,
   "id": "7e389630",
   "metadata": {},
   "outputs": [],
   "source": [
    "df[\"month\"] = df[\"month\"].map(m)"
   ]
  },
  {
   "cell_type": "code",
   "execution_count": null,
   "id": "86c38706",
   "metadata": {},
   "outputs": [],
   "source": [
    "df.head()"
   ]
  },
  {
   "cell_type": "markdown",
   "id": "be26faee",
   "metadata": {},
   "source": [
    "### Creating month-day column"
   ]
  },
  {
   "cell_type": "code",
   "execution_count": null,
   "id": "0e4a7589",
   "metadata": {},
   "outputs": [],
   "source": [
    "df[\"month-day\"] = df['month'].astype('str') + \"-\" + df['day_of_week'].astype('str')\n",
    "df.head()"
   ]
  },
  {
   "cell_type": "markdown",
   "id": "e343580e",
   "metadata": {},
   "source": [
    "### pdays column value correction"
   ]
  },
  {
   "cell_type": "code",
   "execution_count": null,
   "id": "fe675896",
   "metadata": {},
   "outputs": [],
   "source": [
    "df['pdays'].mask(df['pdays'] == 999, 0, inplace=True)"
   ]
  },
  {
   "cell_type": "code",
   "execution_count": null,
   "id": "72e9b448",
   "metadata": {},
   "outputs": [],
   "source": [
    "df.head()"
   ]
  },
  {
   "cell_type": "markdown",
   "id": "b63dde40",
   "metadata": {},
   "source": [
    "# Outlier"
   ]
  },
  {
   "cell_type": "markdown",
   "id": "758b71aa",
   "metadata": {},
   "source": [
    "we are using box plot method to detect outlier.\n",
    "Outlier points</b> = Q3 + 1.5 IQR(Upper Quartile) , Q1 - 1.5 IQR(Lower Quartile)"
   ]
  },
  {
   "cell_type": "code",
   "execution_count": null,
   "id": "e9fd83c6",
   "metadata": {},
   "outputs": [],
   "source": [
    "numerical_var"
   ]
  },
  {
   "cell_type": "code",
   "execution_count": null,
   "id": "0cf53587",
   "metadata": {},
   "outputs": [],
   "source": [
    "fig,axes = plt.subplots(4, 3, figsize=(18, 20))\n",
    "fig.suptitle('Boxplot graph')\n",
    "count = 0;\n",
    "for i in range(4):\n",
    "    for j in range(3):\n",
    "        if( count < len(numerical_var)):\n",
    "            sns.boxplot(ax=axes[i,j], x=numerical_var[count], data=df)\n",
    "            count = count + 1"
   ]
  },
  {
   "cell_type": "markdown",
   "id": "1c2ed6bb",
   "metadata": {},
   "source": [
    "From the above Boxplot graph, we can clearly see that age, duration, campaign and cons.conf.idx contain outlier. So we can perform opratoin to remove outlier."
   ]
  },
  {
   "cell_type": "markdown",
   "id": "ade82343",
   "metadata": {},
   "source": [
    "#### Age column log-transformed"
   ]
  },
  {
   "cell_type": "code",
   "execution_count": null,
   "id": "520f2d9a",
   "metadata": {},
   "outputs": [],
   "source": [
    "# There are several outliers in the age column. This can be handled by transforming them\n",
    "# Transorming the outliers using log so the distribution can become more normally distributed\n",
    "df['log_age'] = [np.log(x) for x in df['age']]"
   ]
  },
  {
   "cell_type": "code",
   "execution_count": null,
   "id": "00ac5857",
   "metadata": {},
   "outputs": [],
   "source": [
    "fig = plt.figure(figsize =(10, 7))\n",
    " \n",
    "# Creating plot\n",
    "plt.boxplot(df[\"log_age\"])\n",
    " \n",
    "# show plot\n",
    "plt.show()"
   ]
  },
  {
   "cell_type": "markdown",
   "id": "752dfcdb",
   "metadata": {},
   "source": [
    "#### Removing Outliers "
   ]
  },
  {
   "cell_type": "code",
   "execution_count": null,
   "id": "33442c97",
   "metadata": {},
   "outputs": [],
   "source": [
    "# here we have defined generic function to remove outlier from any column with any dataset\n",
    "def removeOutlier(dataset:pd.DataFrame, column:str, remove: bool, lowerCutoff, upperCutoff):\n",
    "    Q1 = dataset[column].quantile(lowerCutoff / 100)\n",
    "    Q3 = dataset[column].quantile(upperCutoff / 100)\n",
    "    \n",
    "    IQR = Q3-Q1\n",
    "    lower_limit = Q1 - IQR*1.5\n",
    "    upper_limit = Q3 + IQR*1.5\n",
    "    \n",
    "    # here, we have tow solution. Ether we can remove the outlier or replace it with upper limit.\n",
    "    if remove:\n",
    "        temp = dataset[(dataset[column] < lower_limit) or (dataset[column] > upper_limit)]\n",
    "    else:\n",
    "        dataset.loc[dataset[column] < lower_limit, column] = lower_limit \n",
    "        dataset.loc[dataset[column] > upper_limit, column] = upper_limit\n",
    "#         We can also use Replace values of Given column by using np.where() function.\n",
    "#         dataset[column] = np.where(dataset[column] > upper_limit, upper_limit, dataset[column])"
   ]
  },
  {
   "cell_type": "code",
   "execution_count": null,
   "id": "2686c96e",
   "metadata": {},
   "outputs": [],
   "source": [
    "df[df['duration'] > 3500]['duration'].min()"
   ]
  },
  {
   "cell_type": "code",
   "execution_count": null,
   "id": "20e39088",
   "metadata": {},
   "outputs": [],
   "source": [
    "# here lower side there is no outlier but upper side, it is clearly visible that after 3500 the frequency descresed. \n",
    "# we replace 3500+ value with 3500 value.\n",
    "# duration(df, 'duration', False, 0, 95)\n",
    "upper_limit = 3500\n",
    "df.loc[df['duration'] > upper_limit, 'duration'] = upper_limit "
   ]
  },
  {
   "cell_type": "code",
   "execution_count": null,
   "id": "9fc6c928",
   "metadata": {},
   "outputs": [],
   "source": [
    "df[df['campaign'] > 34]['campaign']"
   ]
  },
  {
   "cell_type": "code",
   "execution_count": null,
   "id": "859b795e",
   "metadata": {},
   "outputs": [],
   "source": [
    "# here lower side there is no campaign but upper side, it is clearly visible the gap in value after 35. So we set 35 as cutoff value \n",
    "# we replace 3500+ value with 3500 value.\n",
    "# duration(df, 'duration', False, 0, 95)\n",
    "upper_limit = 34\n",
    "df.loc[df['campaign'] > upper_limit, 'campaign'] = upper_limit "
   ]
  },
  {
   "cell_type": "code",
   "execution_count": null,
   "id": "e2bf5edb",
   "metadata": {},
   "outputs": [],
   "source": [
    "# here lower side there is no outlier but upper side, it is slightly noticable so we are taking 95% data.\n",
    "upper_limit = -30\n",
    "df.loc[df['cons.conf.idx'] > upper_limit, 'cons.conf.idx'] = upper_limit "
   ]
  },
  {
   "cell_type": "code",
   "execution_count": null,
   "id": "9750984d",
   "metadata": {},
   "outputs": [],
   "source": [
    "fig,axes = plt.subplots(4, 3, figsize=(18, 20))\n",
    "fig.suptitle('Boxplot graph')\n",
    "count = 0;\n",
    "for i in range(4):\n",
    "    for j in range(3):\n",
    "        if( count < len(numerical_var)):\n",
    "            sns.boxplot(ax=axes[i,j], x=numerical_var[count], data=df)\n",
    "            count = count + 1"
   ]
  },
  {
   "cell_type": "markdown",
   "id": "378fbf56",
   "metadata": {},
   "source": [
    "In above graph, we can see that we have hanlded outlier point at some extent."
   ]
  }
 ],
 "metadata": {
  "kernelspec": {
   "display_name": "Python 3 (ipykernel)",
   "language": "python",
   "name": "python3"
  },
  "language_info": {
   "codemirror_mode": {
    "name": "ipython",
    "version": 3
   },
   "file_extension": ".py",
   "mimetype": "text/x-python",
   "name": "python",
   "nbconvert_exporter": "python",
   "pygments_lexer": "ipython3",
   "version": "3.9.12"
  }
 },
 "nbformat": 4,
 "nbformat_minor": 5
}
