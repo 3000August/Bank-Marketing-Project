{
 "cells": [
  {
   "cell_type": "markdown",
   "id": "94745b58",
   "metadata": {},
   "source": [
    "# Bank Marketing Campaign "
   ]
  },
  {
   "cell_type": "markdown",
   "id": "2aff7ea3",
   "metadata": {},
   "source": [
    "**The aim of this notebook is to perform EDA to generate insights to help ABC Bank identify the right customers to target\n",
    "for their marketing campaign.**\n",
    "\n",
    "\n",
    "# Exploratory Data Analysis\n",
    "\n",
    "In this notebook, we will go through the following steps. \n",
    "\n",
    "1. Data Preparation\n",
    "   \n",
    "   - Importing libraries\n",
    "   - Data Ingestion\n",
    "   - Data Overview/(Data Intake)\n",
    "   - Initial Categorical & Numerical variables Analysis (Overall Picture)\n",
    "   - Data Cleaning and Transformation\n",
    "   \n",
    "\n",
    "2. **Data Analysis**\n",
    "            \n",
    "    - Target Variable Analysis\n",
    "    \n",
    "    - Correlation Analysis\n",
    "    \n",
    "        a. Categorical versus categorical\n",
    "        \n",
    "        b. Numerical versus numerical\n",
    "        \n",
    "        c. Categorical versus numerical \n",
    "    \n",
    "    - Time Series Analysis \n",
    "    \n",
    "\n",
    "3. Communication with stakeholders\n",
    "\n",
    "==================================================================================================="
   ]
  },
  {
   "cell_type": "markdown",
   "id": "ae02744f",
   "metadata": {},
   "source": [
    "# Data Preparation"
   ]
  },
  {
   "cell_type": "markdown",
   "id": "6c1b43af",
   "metadata": {},
   "source": [
    " ## Import Libraries "
   ]
  },
  {
   "cell_type": "code",
   "execution_count": 1,
   "id": "0b966ac9",
   "metadata": {},
   "outputs": [],
   "source": [
    "import pandas as pd\n",
    "import matplotlib.pyplot as plt\n",
    "import seaborn as sns\n",
    "import numpy as np"
   ]
  },
  {
   "cell_type": "code",
   "execution_count": 2,
   "id": "9cf17b41",
   "metadata": {},
   "outputs": [],
   "source": [
    "import warnings\n",
    "warnings.filterwarnings('ignore')"
   ]
  },
  {
   "cell_type": "markdown",
   "id": "a6924e99",
   "metadata": {},
   "source": [
    "## Data Ingestion"
   ]
  },
  {
   "cell_type": "markdown",
   "id": "b85955a5",
   "metadata": {},
   "source": [
    "### Testutility file"
   ]
  },
  {
   "cell_type": "code",
   "execution_count": 3,
   "id": "b4b3b6f1",
   "metadata": {},
   "outputs": [
    {
     "name": "stdout",
     "output_type": "stream",
     "text": [
      "Overwriting testutility.py\n"
     ]
    }
   ],
   "source": [
    "%%writefile testutility.py\n",
    "import logging\n",
    "import os\n",
    "import subprocess\n",
    "import yaml \n",
    "import pandas as pd\n",
    "import datetime\n",
    "import gc\n",
    "import re\n",
    "\n",
    "#################\n",
    "# File Reading #\n",
    "#################\n",
    "\n",
    "def read_config_file(filepath):\n",
    "  with open(filepath, \"r\") as stream:\n",
    "    try:\n",
    "      return yaml.safe_load(stream)\n",
    "    except yaml.YAMLError as exc:\n",
    "      logging.error(exc)"
   ]
  },
  {
   "cell_type": "markdown",
   "id": "42e6f7aa",
   "metadata": {},
   "source": [
    "### Yaml file"
   ]
  },
  {
   "cell_type": "code",
   "execution_count": 4,
   "id": "3da5a40f",
   "metadata": {},
   "outputs": [
    {
     "name": "stdout",
     "output_type": "stream",
     "text": [
      "Overwriting file.yaml\n"
     ]
    }
   ],
   "source": [
    "%%writefile file.yaml\n",
    "file_type: csv\n",
    "dataset_name: testfile\n",
    "file_name: bank-additional-full\n",
    "table_name: edsurv\n",
    "inbound_delimeter: \";\"\n",
    "outbound_delimeter: \"|\""
   ]
  },
  {
   "cell_type": "code",
   "execution_count": 5,
   "id": "8808e95c",
   "metadata": {},
   "outputs": [],
   "source": [
    "# Read Config file\n",
    "import testutility as util\n",
    "config_data = util.read_config_file(\"file.yaml\")"
   ]
  },
  {
   "cell_type": "code",
   "execution_count": 6,
   "id": "74e99762",
   "metadata": {},
   "outputs": [
    {
     "data": {
      "text/plain": [
       "'bank-additional-full'"
      ]
     },
     "execution_count": 6,
     "metadata": {},
     "output_type": "execute_result"
    }
   ],
   "source": [
    "config_data[\"file_name\"]"
   ]
  },
  {
   "cell_type": "code",
   "execution_count": 7,
   "id": "22fc4a06",
   "metadata": {},
   "outputs": [],
   "source": [
    "# read the files using config file\n",
    "file_type = config_data[\"file_type\"]\n",
    "source_file = \"./\" + config_data[\"file_name\"] + f\".{file_type}\"\n",
    "\n",
    "# print(\"\", source_file)\n",
    "df = pd.read_csv(source_file, config_data[\"inbound_delimeter\"])"
   ]
  },
  {
   "cell_type": "markdown",
   "id": "e44afc9c",
   "metadata": {},
   "source": [
    "## Data Overview"
   ]
  },
  {
   "cell_type": "code",
   "execution_count": 8,
   "id": "d109f077",
   "metadata": {},
   "outputs": [
    {
     "data": {
      "text/plain": [
       "(41188, 21)"
      ]
     },
     "execution_count": 8,
     "metadata": {},
     "output_type": "execute_result"
    }
   ],
   "source": [
    "df.shape"
   ]
  },
  {
   "cell_type": "code",
   "execution_count": 9,
   "id": "d84903d7",
   "metadata": {},
   "outputs": [
    {
     "data": {
      "text/html": [
       "<div>\n",
       "<style scoped>\n",
       "    .dataframe tbody tr th:only-of-type {\n",
       "        vertical-align: middle;\n",
       "    }\n",
       "\n",
       "    .dataframe tbody tr th {\n",
       "        vertical-align: top;\n",
       "    }\n",
       "\n",
       "    .dataframe thead th {\n",
       "        text-align: right;\n",
       "    }\n",
       "</style>\n",
       "<table border=\"1\" class=\"dataframe\">\n",
       "  <thead>\n",
       "    <tr style=\"text-align: right;\">\n",
       "      <th></th>\n",
       "      <th>age</th>\n",
       "      <th>job</th>\n",
       "      <th>marital</th>\n",
       "      <th>education</th>\n",
       "      <th>default</th>\n",
       "      <th>housing</th>\n",
       "      <th>loan</th>\n",
       "      <th>contact</th>\n",
       "      <th>month</th>\n",
       "      <th>day_of_week</th>\n",
       "      <th>...</th>\n",
       "      <th>campaign</th>\n",
       "      <th>pdays</th>\n",
       "      <th>previous</th>\n",
       "      <th>poutcome</th>\n",
       "      <th>emp.var.rate</th>\n",
       "      <th>cons.price.idx</th>\n",
       "      <th>cons.conf.idx</th>\n",
       "      <th>euribor3m</th>\n",
       "      <th>nr.employed</th>\n",
       "      <th>y</th>\n",
       "    </tr>\n",
       "  </thead>\n",
       "  <tbody>\n",
       "    <tr>\n",
       "      <th>0</th>\n",
       "      <td>56</td>\n",
       "      <td>housemaid</td>\n",
       "      <td>married</td>\n",
       "      <td>basic.4y</td>\n",
       "      <td>no</td>\n",
       "      <td>no</td>\n",
       "      <td>no</td>\n",
       "      <td>telephone</td>\n",
       "      <td>may</td>\n",
       "      <td>mon</td>\n",
       "      <td>...</td>\n",
       "      <td>1</td>\n",
       "      <td>999</td>\n",
       "      <td>0</td>\n",
       "      <td>nonexistent</td>\n",
       "      <td>1.1</td>\n",
       "      <td>93.994</td>\n",
       "      <td>-36.4</td>\n",
       "      <td>4.857</td>\n",
       "      <td>5191.0</td>\n",
       "      <td>no</td>\n",
       "    </tr>\n",
       "    <tr>\n",
       "      <th>1</th>\n",
       "      <td>57</td>\n",
       "      <td>services</td>\n",
       "      <td>married</td>\n",
       "      <td>high.school</td>\n",
       "      <td>unknown</td>\n",
       "      <td>no</td>\n",
       "      <td>no</td>\n",
       "      <td>telephone</td>\n",
       "      <td>may</td>\n",
       "      <td>mon</td>\n",
       "      <td>...</td>\n",
       "      <td>1</td>\n",
       "      <td>999</td>\n",
       "      <td>0</td>\n",
       "      <td>nonexistent</td>\n",
       "      <td>1.1</td>\n",
       "      <td>93.994</td>\n",
       "      <td>-36.4</td>\n",
       "      <td>4.857</td>\n",
       "      <td>5191.0</td>\n",
       "      <td>no</td>\n",
       "    </tr>\n",
       "    <tr>\n",
       "      <th>2</th>\n",
       "      <td>37</td>\n",
       "      <td>services</td>\n",
       "      <td>married</td>\n",
       "      <td>high.school</td>\n",
       "      <td>no</td>\n",
       "      <td>yes</td>\n",
       "      <td>no</td>\n",
       "      <td>telephone</td>\n",
       "      <td>may</td>\n",
       "      <td>mon</td>\n",
       "      <td>...</td>\n",
       "      <td>1</td>\n",
       "      <td>999</td>\n",
       "      <td>0</td>\n",
       "      <td>nonexistent</td>\n",
       "      <td>1.1</td>\n",
       "      <td>93.994</td>\n",
       "      <td>-36.4</td>\n",
       "      <td>4.857</td>\n",
       "      <td>5191.0</td>\n",
       "      <td>no</td>\n",
       "    </tr>\n",
       "    <tr>\n",
       "      <th>3</th>\n",
       "      <td>40</td>\n",
       "      <td>admin.</td>\n",
       "      <td>married</td>\n",
       "      <td>basic.6y</td>\n",
       "      <td>no</td>\n",
       "      <td>no</td>\n",
       "      <td>no</td>\n",
       "      <td>telephone</td>\n",
       "      <td>may</td>\n",
       "      <td>mon</td>\n",
       "      <td>...</td>\n",
       "      <td>1</td>\n",
       "      <td>999</td>\n",
       "      <td>0</td>\n",
       "      <td>nonexistent</td>\n",
       "      <td>1.1</td>\n",
       "      <td>93.994</td>\n",
       "      <td>-36.4</td>\n",
       "      <td>4.857</td>\n",
       "      <td>5191.0</td>\n",
       "      <td>no</td>\n",
       "    </tr>\n",
       "    <tr>\n",
       "      <th>4</th>\n",
       "      <td>56</td>\n",
       "      <td>services</td>\n",
       "      <td>married</td>\n",
       "      <td>high.school</td>\n",
       "      <td>no</td>\n",
       "      <td>no</td>\n",
       "      <td>yes</td>\n",
       "      <td>telephone</td>\n",
       "      <td>may</td>\n",
       "      <td>mon</td>\n",
       "      <td>...</td>\n",
       "      <td>1</td>\n",
       "      <td>999</td>\n",
       "      <td>0</td>\n",
       "      <td>nonexistent</td>\n",
       "      <td>1.1</td>\n",
       "      <td>93.994</td>\n",
       "      <td>-36.4</td>\n",
       "      <td>4.857</td>\n",
       "      <td>5191.0</td>\n",
       "      <td>no</td>\n",
       "    </tr>\n",
       "  </tbody>\n",
       "</table>\n",
       "<p>5 rows × 21 columns</p>\n",
       "</div>"
      ],
      "text/plain": [
       "   age        job  marital    education  default housing loan    contact  \\\n",
       "0   56  housemaid  married     basic.4y       no      no   no  telephone   \n",
       "1   57   services  married  high.school  unknown      no   no  telephone   \n",
       "2   37   services  married  high.school       no     yes   no  telephone   \n",
       "3   40     admin.  married     basic.6y       no      no   no  telephone   \n",
       "4   56   services  married  high.school       no      no  yes  telephone   \n",
       "\n",
       "  month day_of_week  ...  campaign  pdays  previous     poutcome emp.var.rate  \\\n",
       "0   may         mon  ...         1    999         0  nonexistent          1.1   \n",
       "1   may         mon  ...         1    999         0  nonexistent          1.1   \n",
       "2   may         mon  ...         1    999         0  nonexistent          1.1   \n",
       "3   may         mon  ...         1    999         0  nonexistent          1.1   \n",
       "4   may         mon  ...         1    999         0  nonexistent          1.1   \n",
       "\n",
       "   cons.price.idx  cons.conf.idx  euribor3m  nr.employed   y  \n",
       "0          93.994          -36.4      4.857       5191.0  no  \n",
       "1          93.994          -36.4      4.857       5191.0  no  \n",
       "2          93.994          -36.4      4.857       5191.0  no  \n",
       "3          93.994          -36.4      4.857       5191.0  no  \n",
       "4          93.994          -36.4      4.857       5191.0  no  \n",
       "\n",
       "[5 rows x 21 columns]"
      ]
     },
     "execution_count": 9,
     "metadata": {},
     "output_type": "execute_result"
    }
   ],
   "source": [
    "df.head()"
   ]
  },
  {
   "cell_type": "code",
   "execution_count": 10,
   "id": "cd7ee491",
   "metadata": {},
   "outputs": [
    {
     "name": "stdout",
     "output_type": "stream",
     "text": [
      "<class 'pandas.core.frame.DataFrame'>\n",
      "RangeIndex: 41188 entries, 0 to 41187\n",
      "Data columns (total 21 columns):\n",
      " #   Column          Non-Null Count  Dtype  \n",
      "---  ------          --------------  -----  \n",
      " 0   age             41188 non-null  int64  \n",
      " 1   job             41188 non-null  object \n",
      " 2   marital         41188 non-null  object \n",
      " 3   education       41188 non-null  object \n",
      " 4   default         41188 non-null  object \n",
      " 5   housing         41188 non-null  object \n",
      " 6   loan            41188 non-null  object \n",
      " 7   contact         41188 non-null  object \n",
      " 8   month           41188 non-null  object \n",
      " 9   day_of_week     41188 non-null  object \n",
      " 10  duration        41188 non-null  int64  \n",
      " 11  campaign        41188 non-null  int64  \n",
      " 12  pdays           41188 non-null  int64  \n",
      " 13  previous        41188 non-null  int64  \n",
      " 14  poutcome        41188 non-null  object \n",
      " 15  emp.var.rate    41188 non-null  float64\n",
      " 16  cons.price.idx  41188 non-null  float64\n",
      " 17  cons.conf.idx   41188 non-null  float64\n",
      " 18  euribor3m       41188 non-null  float64\n",
      " 19  nr.employed     41188 non-null  float64\n",
      " 20  y               41188 non-null  object \n",
      "dtypes: float64(5), int64(5), object(11)\n",
      "memory usage: 6.6+ MB\n"
     ]
    }
   ],
   "source": [
    "df.info()"
   ]
  },
  {
   "cell_type": "code",
   "execution_count": 11,
   "id": "11d5cc0f",
   "metadata": {},
   "outputs": [],
   "source": [
    "import os\n",
    "def summary(df, source_file):\n",
    "    rows = len(df)\n",
    "    columns = len(df.columns)\n",
    "    print(f\"Number of Rows: {rows}\")\n",
    "    print(f\"Number of Columns: {columns}\")\n",
    "    file_size = os.path.getsize(source_file)\n",
    "    print(f\"Size: {file_size} bytes\")"
   ]
  },
  {
   "cell_type": "code",
   "execution_count": 12,
   "id": "d486a142",
   "metadata": {},
   "outputs": [
    {
     "name": "stdout",
     "output_type": "stream",
     "text": [
      "Number of Rows: 41188\n",
      "Number of Columns: 21\n",
      "Size: 5834924 bytes\n"
     ]
    }
   ],
   "source": [
    "summary(df, source_file)"
   ]
  },
  {
   "cell_type": "code",
   "execution_count": 13,
   "id": "778f8ee5",
   "metadata": {},
   "outputs": [
    {
     "data": {
      "text/plain": [
       "Index(['age', 'job', 'marital', 'education', 'default', 'housing', 'loan',\n",
       "       'contact', 'month', 'day_of_week', 'duration', 'campaign', 'pdays',\n",
       "       'previous', 'poutcome', 'emp.var.rate', 'cons.price.idx',\n",
       "       'cons.conf.idx', 'euribor3m', 'nr.employed', 'y'],\n",
       "      dtype='object')"
      ]
     },
     "execution_count": 13,
     "metadata": {},
     "output_type": "execute_result"
    }
   ],
   "source": [
    "df.columns"
   ]
  },
  {
   "cell_type": "code",
   "execution_count": 14,
   "id": "63f9516c",
   "metadata": {},
   "outputs": [
    {
     "data": {
      "text/plain": [
       "12"
      ]
     },
     "execution_count": 14,
     "metadata": {},
     "output_type": "execute_result"
    }
   ],
   "source": [
    "df.duplicated().sum()"
   ]
  },
  {
   "cell_type": "markdown",
   "id": "4dff70ca",
   "metadata": {},
   "source": [
    "Here we have 41k records. So removing record will not affect our existing dataset. So we have drop 12 duplicate records."
   ]
  },
  {
   "cell_type": "code",
   "execution_count": 15,
   "id": "1a2a38c0",
   "metadata": {},
   "outputs": [],
   "source": [
    "df = df.drop_duplicates()"
   ]
  },
  {
   "cell_type": "code",
   "execution_count": 16,
   "id": "bf88cd00",
   "metadata": {},
   "outputs": [
    {
     "data": {
      "text/plain": [
       "age                 int64\n",
       "job                object\n",
       "marital            object\n",
       "education          object\n",
       "default            object\n",
       "housing            object\n",
       "loan               object\n",
       "contact            object\n",
       "month              object\n",
       "day_of_week        object\n",
       "duration            int64\n",
       "campaign            int64\n",
       "pdays               int64\n",
       "previous            int64\n",
       "poutcome           object\n",
       "emp.var.rate      float64\n",
       "cons.price.idx    float64\n",
       "cons.conf.idx     float64\n",
       "euribor3m         float64\n",
       "nr.employed       float64\n",
       "y                  object\n",
       "dtype: object"
      ]
     },
     "execution_count": 16,
     "metadata": {},
     "output_type": "execute_result"
    }
   ],
   "source": [
    "df.dtypes"
   ]
  },
  {
   "cell_type": "code",
   "execution_count": 17,
   "id": "5b6bbff5",
   "metadata": {},
   "outputs": [
    {
     "data": {
      "text/plain": [
       "0"
      ]
     },
     "execution_count": 17,
     "metadata": {},
     "output_type": "execute_result"
    }
   ],
   "source": [
    "df.duplicated().sum()"
   ]
  },
  {
   "cell_type": "code",
   "execution_count": 18,
   "id": "12caf01e",
   "metadata": {
    "scrolled": true
   },
   "outputs": [
    {
     "data": {
      "text/plain": [
       "age               0\n",
       "job               0\n",
       "marital           0\n",
       "education         0\n",
       "default           0\n",
       "housing           0\n",
       "loan              0\n",
       "contact           0\n",
       "month             0\n",
       "day_of_week       0\n",
       "duration          0\n",
       "campaign          0\n",
       "pdays             0\n",
       "previous          0\n",
       "poutcome          0\n",
       "emp.var.rate      0\n",
       "cons.price.idx    0\n",
       "cons.conf.idx     0\n",
       "euribor3m         0\n",
       "nr.employed       0\n",
       "y                 0\n",
       "dtype: int64"
      ]
     },
     "execution_count": 18,
     "metadata": {},
     "output_type": "execute_result"
    }
   ],
   "source": [
    "df.isna().sum()"
   ]
  },
  {
   "cell_type": "markdown",
   "id": "4d3091d8",
   "metadata": {},
   "source": [
    "Now, as per above result,  we can see there is no any duplicate value nor null value."
   ]
  },
  {
   "cell_type": "markdown",
   "id": "9223cd72",
   "metadata": {},
   "source": [
    "## Initial Categorical & Numerical variables Analysis (Overall Picture)"
   ]
  },
  {
   "cell_type": "markdown",
   "id": "ab2e96f0",
   "metadata": {},
   "source": [
    "### Variable Types"
   ]
  },
  {
   "cell_type": "markdown",
   "id": "e951d49b",
   "metadata": {},
   "source": [
    "#### Target Variable"
   ]
  },
  {
   "cell_type": "code",
   "execution_count": 19,
   "id": "255c7da3",
   "metadata": {},
   "outputs": [
    {
     "data": {
      "text/plain": [
       "['y']"
      ]
     },
     "execution_count": 19,
     "metadata": {},
     "output_type": "execute_result"
    }
   ],
   "source": [
    "target_var = ['y']\n",
    "target = df[target_var]\n",
    "target_var"
   ]
  },
  {
   "cell_type": "code",
   "execution_count": 71,
   "id": "2a31be35",
   "metadata": {},
   "outputs": [
    {
     "data": {
      "text/plain": [
       "array(['no', 'yes'], dtype=object)"
      ]
     },
     "execution_count": 71,
     "metadata": {},
     "output_type": "execute_result"
    }
   ],
   "source": [
    "df[\"y\"].unique()"
   ]
  },
  {
   "cell_type": "code",
   "execution_count": 21,
   "id": "9cb0992a",
   "metadata": {},
   "outputs": [
    {
     "data": {
      "text/plain": [
       "<AxesSubplot:title={'center':'Target y'}, xlabel='y', ylabel='% outcomes'>"
      ]
     },
     "execution_count": 21,
     "metadata": {},
     "output_type": "execute_result"
    },
    {
     "data": {
      "image/png": "[encoded data removed]",
      "text/plain": [
       "<Figure size 432x288 with 1 Axes>"
      ]
     },
     "metadata": {
      "needs_background": "light"
     },
     "output_type": "display_data"
    }
   ],
   "source": [
    "target.value_counts(normalize=True).plot(kind=\"bar\", ylabel = \"% outcomes\", title = \"Target y\")"
   ]
  },
  {
   "cell_type": "markdown",
   "id": "4fb1033d",
   "metadata": {},
   "source": [
    "The data suggest an imbalance in the target variable. This can affect the performance of our model so an oversampling technique must be applied before model building. "
   ]
  },
  {
   "cell_type": "markdown",
   "id": "b95deabe",
   "metadata": {},
   "source": [
    "#### Categorical Variables"
   ]
  },
  {
   "cell_type": "code",
   "execution_count": 22,
   "id": "483afa60",
   "metadata": {},
   "outputs": [
    {
     "data": {
      "text/plain": [
       "['job',\n",
       " 'marital',\n",
       " 'education',\n",
       " 'default',\n",
       " 'housing',\n",
       " 'loan',\n",
       " 'contact',\n",
       " 'poutcome']"
      ]
     },
     "execution_count": 22,
     "metadata": {},
     "output_type": "execute_result"
    }
   ],
   "source": [
    "categorical_var = [var for var in df.columns \n",
    "                   if df[var].dtype==\"O\" and \n",
    "                   var not in target_var and \n",
    "                   var not in [\"month\", \"day_of_week\"]]\n",
    "categorical_var"
   ]
  },
  {
   "cell_type": "code",
   "execution_count": 23,
   "id": "5b59cca4",
   "metadata": {},
   "outputs": [
    {
     "name": "stdout",
     "output_type": "stream",
     "text": [
      "job ['housemaid' 'services' 'admin.' 'blue-collar' 'technician' 'retired'\n",
      " 'management' 'unemployed' 'self-employed' 'unknown' 'entrepreneur'\n",
      " 'student']\n",
      "\n",
      "marital ['married' 'single' 'divorced' 'unknown']\n",
      "\n",
      "education ['basic.4y' 'high.school' 'basic.6y' 'basic.9y' 'professional.course'\n",
      " 'unknown' 'university.degree' 'illiterate']\n",
      "\n",
      "default ['no' 'unknown' 'yes']\n",
      "\n",
      "housing ['no' 'yes' 'unknown']\n",
      "\n",
      "loan ['no' 'yes' 'unknown']\n",
      "\n",
      "contact ['telephone' 'cellular']\n",
      "\n",
      "poutcome ['nonexistent' 'failure' 'success']\n",
      "\n"
     ]
    }
   ],
   "source": [
    "# let's explore the values of these categorical variables\n",
    "for var in categorical_var:\n",
    "    print(var, df[var].unique())\n",
    "    print()"
   ]
  },
  {
   "cell_type": "code",
   "execution_count": 24,
   "id": "4a561800",
   "metadata": {},
   "outputs": [
    {
     "data": {
      "image/png": "[encoded data removed]",
      "text/plain": [
       "<Figure size 864x288 with 1 Axes>"
      ]
     },
     "metadata": {
      "needs_background": "light"
     },
     "output_type": "display_data"
    },
    {
     "data": {
      "image/png": "[encoded data removed]",
      "text/plain": [
       "<Figure size 864x288 with 1 Axes>"
      ]
     },
     "metadata": {
      "needs_background": "light"
     },
     "output_type": "display_data"
    },
    {
     "data": {
      "image/png": "[encoded data removed]",
      "text/plain": [
       "<Figure size 864x288 with 1 Axes>"
      ]
     },
     "metadata": {
      "needs_background": "light"
     },
     "output_type": "display_data"
    },
    {
     "data": {
      "image/png": "[encoded data removed]",
      "text/plain": [
       "<Figure size 864x288 with 1 Axes>"
      ]
     },
     "metadata": {
      "needs_background": "light"
     },
     "output_type": "display_data"
    },
    {
     "data": {
      "image/png": "[encoded data removed]",
      "text/plain": [
       "<Figure size 864x288 with 1 Axes>"
      ]
     },
     "metadata": {
      "needs_background": "light"
     },
     "output_type": "display_data"
    },
    {
     "data": {
      "image/png": "[encoded data removed]",
      "text/plain": [
       "<Figure size 864x288 with 1 Axes>"
      ]
     },
     "metadata": {
      "needs_background": "light"
     },
     "output_type": "display_data"
    },
    {
     "data": {
      "image/png": "[encoded data removed]",
      "text/plain": [
       "<Figure size 864x288 with 1 Axes>"
      ]
     },
     "metadata": {
      "needs_background": "light"
     },
     "output_type": "display_data"
    },
    {
     "data": {
      "image/png": "[encoded data removed]",
      "text/plain": [
       "<Figure size 864x288 with 1 Axes>"
      ]
     },
     "metadata": {
      "needs_background": "light"
     },
     "output_type": "display_data"
    }
   ],
   "source": [
    "for var in categorical_var:\n",
    "    \n",
    "    plt.figure(figsize=(12,4))\n",
    "    \n",
    "    # plot transformed variable vs sale price\n",
    "    df[var].value_counts(normalize = True).plot(\n",
    "    kind=\"bar\",\n",
    "    xlabel=f\"{var}\",\n",
    "    ylabel=\"% Phone calls\",\n",
    "    title=f\"Calls by {var}\"\n",
    "    )\n",
    "                \n",
    "    plt.show()"
   ]
  },
  {
   "cell_type": "markdown",
   "id": "f8d35358",
   "metadata": {},
   "source": [
    "#### Numeric Variables"
   ]
  },
  {
   "cell_type": "code",
   "execution_count": 25,
   "id": "945f6fb4",
   "metadata": {},
   "outputs": [
    {
     "data": {
      "text/plain": [
       "['age',\n",
       " 'duration',\n",
       " 'campaign',\n",
       " 'pdays',\n",
       " 'previous',\n",
       " 'emp.var.rate',\n",
       " 'cons.price.idx',\n",
       " 'cons.conf.idx',\n",
       " 'euribor3m',\n",
       " 'nr.employed']"
      ]
     },
     "execution_count": 25,
     "metadata": {},
     "output_type": "execute_result"
    }
   ],
   "source": [
    "numerical_var = [var for var in df.columns if var not in categorical_var + target_var and var not in [\"month\", \"day_of_week\"]]\n",
    "numerical_var"
   ]
  },
  {
   "cell_type": "markdown",
   "id": "67e8e853",
   "metadata": {},
   "source": [
    "#### Temporal Variables "
   ]
  },
  {
   "cell_type": "code",
   "execution_count": 26,
   "id": "f3390a4b",
   "metadata": {},
   "outputs": [
    {
     "data": {
      "text/plain": [
       "['month', 'day_of_week']"
      ]
     },
     "execution_count": 26,
     "metadata": {},
     "output_type": "execute_result"
    }
   ],
   "source": [
    "temporal_var = [var for var in df.columns if var ==\"month\" or var==\"day_of_week\"]\n",
    "temporal_var"
   ]
  },
  {
   "cell_type": "markdown",
   "id": "f7ba3617",
   "metadata": {},
   "source": [
    "#### Discreete Variable "
   ]
  },
  {
   "cell_type": "code",
   "execution_count": 27,
   "id": "b21eb68d",
   "metadata": {},
   "outputs": [
    {
     "data": {
      "text/plain": [
       "['pdays',\n",
       " 'previous',\n",
       " 'emp.var.rate',\n",
       " 'cons.price.idx',\n",
       " 'cons.conf.idx',\n",
       " 'nr.employed']"
      ]
     },
     "execution_count": 27,
     "metadata": {},
     "output_type": "execute_result"
    }
   ],
   "source": [
    "discrete_var = [var for var in numerical_var if len(df[var].unique()) < 32 and var not in temporal_var]\n",
    "discrete_var"
   ]
  },
  {
   "cell_type": "markdown",
   "id": "ee67f036",
   "metadata": {},
   "source": [
    "##### Continuous variables "
   ]
  },
  {
   "cell_type": "code",
   "execution_count": 28,
   "id": "51f5b235",
   "metadata": {},
   "outputs": [
    {
     "data": {
      "text/plain": [
       "['age', 'duration', 'campaign', 'euribor3m']"
      ]
     },
     "execution_count": 28,
     "metadata": {},
     "output_type": "execute_result"
    }
   ],
   "source": [
    "# make list of continuous variables\n",
    "continuous_var = [\n",
    "    var for var in numerical_var if var not in discrete_var+temporal_var]\n",
    "continuous_var"
   ]
  },
  {
   "cell_type": "code",
   "execution_count": 29,
   "id": "15ac4693",
   "metadata": {},
   "outputs": [
    {
     "name": "stdout",
     "output_type": "stream",
     "text": [
      "age [56 57 37 40 45 59 41 24 25 29 35 54 46 50 39 30 55 49 34 52 58 32 38 44\n",
      " 42 60 53 47 51 48 33 31 43 36 28 27 26 22 23 20 21 61 19 18 70 66 76 67\n",
      " 73 88 95 77 68 75 63 80 62 65 72 82 64 71 69 78 85 79 83 81 74 17 87 91\n",
      " 86 98 94 84 92 89]\n",
      "\n",
      "duration [ 261  149  226 ... 1246 1556 1868]\n",
      "\n",
      "campaign [ 1  2  3  4  5  6  7  8  9 10 11 12 13 19 18 23 14 22 25 16 17 15 20 56\n",
      " 39 35 42 28 26 27 32 21 24 29 31 30 41 37 40 33 34 43]\n",
      "\n",
      "euribor3m [4.857 4.856 4.855 4.859 4.86  4.858 4.864 4.865 4.866 4.967 4.961 4.959\n",
      " 4.958 4.96  4.962 4.955 4.947 4.956 4.966 4.963 4.957 4.968 4.97  4.965\n",
      " 4.964 5.045 5.    4.936 4.921 4.918 4.912 4.827 4.794 4.76  4.733 4.7\n",
      " 4.663 4.592 4.474 4.406 4.343 4.286 4.245 4.223 4.191 4.153 4.12  4.076\n",
      " 4.021 3.901 3.879 3.853 3.816 3.743 3.669 3.563 3.488 3.428 3.329 3.282\n",
      " 3.053 1.811 1.799 1.778 1.757 1.726 1.703 1.687 1.663 1.65  1.64  1.629\n",
      " 1.614 1.602 1.584 1.574 1.56  1.556 1.548 1.538 1.531 1.52  1.51  1.498\n",
      " 1.483 1.479 1.466 1.453 1.445 1.435 1.423 1.415 1.41  1.405 1.406 1.4\n",
      " 1.392 1.384 1.372 1.365 1.354 1.344 1.334 1.327 1.313 1.299 1.291 1.281\n",
      " 1.266 1.25  1.244 1.259 1.264 1.27  1.262 1.26  1.268 1.286 1.252 1.235\n",
      " 1.224 1.215 1.206 1.099 1.085 1.072 1.059 1.048 1.044 1.029 1.018 1.007\n",
      " 0.996 0.979 0.969 0.944 0.937 0.933 0.927 0.921 0.914 0.908 0.903 0.899\n",
      " 0.884 0.883 0.881 0.879 0.873 0.869 0.861 0.859 0.854 0.851 0.849 0.843\n",
      " 0.838 0.834 0.829 0.825 0.821 0.819 0.813 0.809 0.803 0.797 0.788 0.781\n",
      " 0.778 0.773 0.771 0.77  0.768 0.766 0.762 0.755 0.749 0.743 0.741 0.739\n",
      " 0.75  0.753 0.754 0.752 0.744 0.74  0.742 0.737 0.735 0.733 0.73  0.731\n",
      " 0.728 0.724 0.722 0.72  0.719 0.716 0.715 0.714 0.718 0.721 0.717 0.712\n",
      " 0.71  0.709 0.708 0.706 0.707 0.7   0.655 0.654 0.653 0.652 0.651 0.65\n",
      " 0.649 0.646 0.644 0.643 0.639 0.637 0.635 0.636 0.634 0.638 0.64  0.642\n",
      " 0.645 0.659 0.663 0.668 0.672 0.677 0.682 0.683 0.684 0.685 0.688 0.69\n",
      " 0.692 0.695 0.697 0.699 0.701 0.702 0.704 0.711 0.713 0.723 0.727 0.729\n",
      " 0.732 0.748 0.761 0.767 0.782 0.79  0.793 0.802 0.81  0.822 0.827 0.835\n",
      " 0.84  0.846 0.87  0.876 0.885 0.889 0.893 0.896 0.898 0.9   0.904 0.905\n",
      " 0.895 0.894 0.891 0.89  0.888 0.886 0.882 0.88  0.878 0.877 0.942 0.953\n",
      " 0.956 0.959 0.965 0.972 0.977 0.982 0.985 0.987 0.993 1.    1.008 1.016\n",
      " 1.025 1.032 1.037 1.043 1.045 1.047 1.05  1.049 1.046 1.041 1.04  1.039\n",
      " 1.035 1.03  1.031 1.028]\n",
      "\n"
     ]
    }
   ],
   "source": [
    "# let's explore the values of these temporal variables\n",
    "\n",
    "for var in continuous_var:\n",
    "    print(var, df[var].unique())\n",
    "    print()"
   ]
  },
  {
   "cell_type": "code",
   "execution_count": 30,
   "id": "421e3258",
   "metadata": {},
   "outputs": [
    {
     "data": {
      "image/png": "[encoded data removed]",
      "text/plain": [
       "<Figure size 1080x1080 with 4 Axes>"
      ]
     },
     "metadata": {
      "needs_background": "light"
     },
     "output_type": "display_data"
    }
   ],
   "source": [
    "# lets plot histograms for all continuous variables\n",
    "df[continuous_var].hist(bins=30, figsize=(15,15))\n",
    "plt.show()"
   ]
  },
  {
   "cell_type": "code",
   "execution_count": 31,
   "id": "bb6c5c6f",
   "metadata": {},
   "outputs": [
    {
     "name": "stdout",
     "output_type": "stream",
     "text": [
      "pdays [999   6   4   3   5   1   0  10   7   8   9  11   2  12  13  14  15  16\n",
      "  21  17  18  22  25  26  19  27  20]\n",
      "\n",
      "previous [0 1 2 3 4 5 6 7]\n",
      "\n",
      "emp.var.rate [ 1.1  1.4 -0.1 -0.2 -1.8 -2.9 -3.4 -3.  -1.7 -1.1]\n",
      "\n",
      "cons.price.idx [93.994 94.465 93.918 93.444 93.798 93.2   92.756 92.843 93.075 92.893\n",
      " 92.963 92.469 92.201 92.379 92.431 92.649 92.713 93.369 93.749 93.876\n",
      " 94.055 94.215 94.027 94.199 94.601 94.767]\n",
      "\n",
      "cons.conf.idx [-36.4 -41.8 -42.7 -36.1 -40.4 -42.  -45.9 -50.  -47.1 -46.2 -40.8 -33.6\n",
      " -31.4 -29.8 -26.9 -30.1 -33.  -34.8 -34.6 -40.  -39.8 -40.3 -38.3 -37.5\n",
      " -49.5 -50.8]\n",
      "\n",
      "nr.employed [5191.  5228.1 5195.8 5176.3 5099.1 5076.2 5017.5 5023.5 5008.7 4991.6\n",
      " 4963.6]\n",
      "\n"
     ]
    }
   ],
   "source": [
    "# let's explore the values of these discrete variables\n",
    "\n",
    "for var in discrete_var:\n",
    "    print(var, df[var].unique())\n",
    "    print()"
   ]
  },
  {
   "cell_type": "code",
   "execution_count": 32,
   "id": "80f76e3d",
   "metadata": {},
   "outputs": [
    {
     "data": {
      "image/png": "[encoded data removed]",
      "text/plain": [
       "<Figure size 864x288 with 1 Axes>"
      ]
     },
     "metadata": {
      "needs_background": "light"
     },
     "output_type": "display_data"
    },
    {
     "data": {
      "image/png": "[encoded data removed]",
      "text/plain": [
       "<Figure size 864x288 with 1 Axes>"
      ]
     },
     "metadata": {
      "needs_background": "light"
     },
     "output_type": "display_data"
    },
    {
     "data": {
      "image/png": "[encoded data removed]",
      "text/plain": [
       "<Figure size 864x288 with 1 Axes>"
      ]
     },
     "metadata": {
      "needs_background": "light"
     },
     "output_type": "display_data"
    },
    {
     "data": {
      "image/png": "[encoded data removed]",
      "text/plain": [
       "<Figure size 864x288 with 1 Axes>"
      ]
     },
     "metadata": {
      "needs_background": "light"
     },
     "output_type": "display_data"
    },
    {
     "data": {
      "image/png": "[encoded data removed]",
      "text/plain": [
       "<Figure size 864x288 with 1 Axes>"
      ]
     },
     "metadata": {
      "needs_background": "light"
     },
     "output_type": "display_data"
    },
    {
     "data": {
      "image/png": "[encoded data removed]",
      "text/plain": [
       "<Figure size 864x288 with 1 Axes>"
      ]
     },
     "metadata": {
      "needs_background": "light"
     },
     "output_type": "display_data"
    }
   ],
   "source": [
    "for var in discrete_var:\n",
    "    \n",
    "    plt.figure(figsize=(12,4))\n",
    "    \n",
    "    # plot transformed variable vs sale price\n",
    "    df[var].value_counts(normalize = True, sort = False).plot(\n",
    "    kind=\"bar\",\n",
    "    xlabel=f\"{var}\",\n",
    "    ylabel=\"% Phone Calls\",\n",
    "    title=f\"Calls by {var}\"\n",
    "    )\n",
    "                \n",
    "    plt.show()"
   ]
  },
  {
   "cell_type": "code",
   "execution_count": 33,
   "id": "3ed16884",
   "metadata": {},
   "outputs": [
    {
     "name": "stdout",
     "output_type": "stream",
     "text": [
      "month ['may' 'jun' 'jul' 'aug' 'oct' 'nov' 'dec' 'mar' 'apr' 'sep']\n",
      "\n",
      "day_of_week ['mon' 'tue' 'wed' 'thu' 'fri']\n",
      "\n"
     ]
    }
   ],
   "source": [
    "# let's explore the values of these temporal variables\n",
    "\n",
    "for var in temporal_var:\n",
    "    print(var, df[var].unique())\n",
    "    print()"
   ]
  },
  {
   "cell_type": "code",
   "execution_count": 34,
   "id": "687d3345",
   "metadata": {},
   "outputs": [
    {
     "data": {
      "image/png": "[encoded data removed]",
      "text/plain": [
       "<Figure size 864x288 with 1 Axes>"
      ]
     },
     "metadata": {
      "needs_background": "light"
     },
     "output_type": "display_data"
    },
    {
     "data": {
      "image/png": "[encoded data removed]",
      "text/plain": [
       "<Figure size 864x288 with 1 Axes>"
      ]
     },
     "metadata": {
      "needs_background": "light"
     },
     "output_type": "display_data"
    }
   ],
   "source": [
    "for var in temporal_var:\n",
    "    \n",
    "    plt.figure(figsize=(12,4))\n",
    "    \n",
    "    # plot transformed variable vs sale price\n",
    "    df[var].value_counts(normalize = True, sort = False).plot(\n",
    "    kind=\"bar\",\n",
    "    xlabel=f\"{var}\",\n",
    "    ylabel=\"% Phone Calls\",\n",
    "    title=f\"Calls by {var}\"\n",
    "    )\n",
    "                \n",
    "    plt.show()"
   ]
  },
  {
   "cell_type": "markdown",
   "id": "67da688d",
   "metadata": {},
   "source": [
    "## Data Cleaning and Transformation"
   ]
  },
  {
   "cell_type": "markdown",
   "id": "9353163d",
   "metadata": {},
   "source": [
    "NOTES:\n",
    "- Duration is a variable we can explore during EDA for business purposes to decide if we should try engaging the person for longer time on the call or not. This variable should not be included in the model becuase Duration is obtained after the call is made to the potential client so if the target client has never received calls, this feature is not very useful.\n",
    "- month mapped to numerical values and another column of day-month can be generated for EDA in furture.\n",
    "- No missing values but there are some with unknown values in loan housing etc. Consider deleting them\n",
    "- There is a 999 value existing in pdays column meaning the customer has not been contacted before. We should change it to 0\n",
    "- Education column has some values which contain \".\" character which can be cleaned.\n",
    "- Outliers need to be handled\n",
    "- Age column can be log transformed"
   ]
  },
  {
   "cell_type": "code",
   "execution_count": 35,
   "id": "cb682c26",
   "metadata": {},
   "outputs": [
    {
     "name": "stdout",
     "output_type": "stream",
     "text": [
      "<class 'pandas.core.frame.DataFrame'>\n",
      "Int64Index: 41176 entries, 0 to 41187\n",
      "Data columns (total 21 columns):\n",
      " #   Column          Non-Null Count  Dtype  \n",
      "---  ------          --------------  -----  \n",
      " 0   age             41176 non-null  int64  \n",
      " 1   job             41176 non-null  object \n",
      " 2   marital         41176 non-null  object \n",
      " 3   education       41176 non-null  object \n",
      " 4   default         41176 non-null  object \n",
      " 5   housing         41176 non-null  object \n",
      " 6   loan            41176 non-null  object \n",
      " 7   contact         41176 non-null  object \n",
      " 8   month           41176 non-null  object \n",
      " 9   day_of_week     41176 non-null  object \n",
      " 10  duration        41176 non-null  int64  \n",
      " 11  campaign        41176 non-null  int64  \n",
      " 12  pdays           41176 non-null  int64  \n",
      " 13  previous        41176 non-null  int64  \n",
      " 14  poutcome        41176 non-null  object \n",
      " 15  emp.var.rate    41176 non-null  float64\n",
      " 16  cons.price.idx  41176 non-null  float64\n",
      " 17  cons.conf.idx   41176 non-null  float64\n",
      " 18  euribor3m       41176 non-null  float64\n",
      " 19  nr.employed     41176 non-null  float64\n",
      " 20  y               41176 non-null  object \n",
      "dtypes: float64(5), int64(5), object(11)\n",
      "memory usage: 6.9+ MB\n"
     ]
    }
   ],
   "source": [
    "df.info()"
   ]
  },
  {
   "cell_type": "markdown",
   "id": "a0ce8b12",
   "metadata": {},
   "source": [
    "Data Types of all the features are correctly assigned so we do not need to change anything."
   ]
  },
  {
   "cell_type": "markdown",
   "id": "8bf120c6",
   "metadata": {},
   "source": [
    "### Cleaning Education values"
   ]
  },
  {
   "cell_type": "code",
   "execution_count": 36,
   "id": "5be37524",
   "metadata": {},
   "outputs": [
    {
     "data": {
      "text/html": [
       "<div>\n",
       "<style scoped>\n",
       "    .dataframe tbody tr th:only-of-type {\n",
       "        vertical-align: middle;\n",
       "    }\n",
       "\n",
       "    .dataframe tbody tr th {\n",
       "        vertical-align: top;\n",
       "    }\n",
       "\n",
       "    .dataframe thead th {\n",
       "        text-align: right;\n",
       "    }\n",
       "</style>\n",
       "<table border=\"1\" class=\"dataframe\">\n",
       "  <thead>\n",
       "    <tr style=\"text-align: right;\">\n",
       "      <th></th>\n",
       "      <th>age</th>\n",
       "      <th>job</th>\n",
       "      <th>marital</th>\n",
       "      <th>education</th>\n",
       "      <th>default</th>\n",
       "      <th>housing</th>\n",
       "      <th>loan</th>\n",
       "      <th>contact</th>\n",
       "      <th>month</th>\n",
       "      <th>day_of_week</th>\n",
       "      <th>...</th>\n",
       "      <th>campaign</th>\n",
       "      <th>pdays</th>\n",
       "      <th>previous</th>\n",
       "      <th>poutcome</th>\n",
       "      <th>emp.var.rate</th>\n",
       "      <th>cons.price.idx</th>\n",
       "      <th>cons.conf.idx</th>\n",
       "      <th>euribor3m</th>\n",
       "      <th>nr.employed</th>\n",
       "      <th>y</th>\n",
       "    </tr>\n",
       "  </thead>\n",
       "  <tbody>\n",
       "    <tr>\n",
       "      <th>0</th>\n",
       "      <td>56</td>\n",
       "      <td>housemaid</td>\n",
       "      <td>married</td>\n",
       "      <td>basic 4y</td>\n",
       "      <td>no</td>\n",
       "      <td>no</td>\n",
       "      <td>no</td>\n",
       "      <td>telephone</td>\n",
       "      <td>may</td>\n",
       "      <td>mon</td>\n",
       "      <td>...</td>\n",
       "      <td>1</td>\n",
       "      <td>999</td>\n",
       "      <td>0</td>\n",
       "      <td>nonexistent</td>\n",
       "      <td>1.1</td>\n",
       "      <td>93.994</td>\n",
       "      <td>-36.4</td>\n",
       "      <td>4.857</td>\n",
       "      <td>5191.0</td>\n",
       "      <td>no</td>\n",
       "    </tr>\n",
       "    <tr>\n",
       "      <th>1</th>\n",
       "      <td>57</td>\n",
       "      <td>services</td>\n",
       "      <td>married</td>\n",
       "      <td>high school</td>\n",
       "      <td>unknown</td>\n",
       "      <td>no</td>\n",
       "      <td>no</td>\n",
       "      <td>telephone</td>\n",
       "      <td>may</td>\n",
       "      <td>mon</td>\n",
       "      <td>...</td>\n",
       "      <td>1</td>\n",
       "      <td>999</td>\n",
       "      <td>0</td>\n",
       "      <td>nonexistent</td>\n",
       "      <td>1.1</td>\n",
       "      <td>93.994</td>\n",
       "      <td>-36.4</td>\n",
       "      <td>4.857</td>\n",
       "      <td>5191.0</td>\n",
       "      <td>no</td>\n",
       "    </tr>\n",
       "    <tr>\n",
       "      <th>2</th>\n",
       "      <td>37</td>\n",
       "      <td>services</td>\n",
       "      <td>married</td>\n",
       "      <td>high school</td>\n",
       "      <td>no</td>\n",
       "      <td>yes</td>\n",
       "      <td>no</td>\n",
       "      <td>telephone</td>\n",
       "      <td>may</td>\n",
       "      <td>mon</td>\n",
       "      <td>...</td>\n",
       "      <td>1</td>\n",
       "      <td>999</td>\n",
       "      <td>0</td>\n",
       "      <td>nonexistent</td>\n",
       "      <td>1.1</td>\n",
       "      <td>93.994</td>\n",
       "      <td>-36.4</td>\n",
       "      <td>4.857</td>\n",
       "      <td>5191.0</td>\n",
       "      <td>no</td>\n",
       "    </tr>\n",
       "    <tr>\n",
       "      <th>3</th>\n",
       "      <td>40</td>\n",
       "      <td>admin</td>\n",
       "      <td>married</td>\n",
       "      <td>basic 6y</td>\n",
       "      <td>no</td>\n",
       "      <td>no</td>\n",
       "      <td>no</td>\n",
       "      <td>telephone</td>\n",
       "      <td>may</td>\n",
       "      <td>mon</td>\n",
       "      <td>...</td>\n",
       "      <td>1</td>\n",
       "      <td>999</td>\n",
       "      <td>0</td>\n",
       "      <td>nonexistent</td>\n",
       "      <td>1.1</td>\n",
       "      <td>93.994</td>\n",
       "      <td>-36.4</td>\n",
       "      <td>4.857</td>\n",
       "      <td>5191.0</td>\n",
       "      <td>no</td>\n",
       "    </tr>\n",
       "    <tr>\n",
       "      <th>4</th>\n",
       "      <td>56</td>\n",
       "      <td>services</td>\n",
       "      <td>married</td>\n",
       "      <td>high school</td>\n",
       "      <td>no</td>\n",
       "      <td>no</td>\n",
       "      <td>yes</td>\n",
       "      <td>telephone</td>\n",
       "      <td>may</td>\n",
       "      <td>mon</td>\n",
       "      <td>...</td>\n",
       "      <td>1</td>\n",
       "      <td>999</td>\n",
       "      <td>0</td>\n",
       "      <td>nonexistent</td>\n",
       "      <td>1.1</td>\n",
       "      <td>93.994</td>\n",
       "      <td>-36.4</td>\n",
       "      <td>4.857</td>\n",
       "      <td>5191.0</td>\n",
       "      <td>no</td>\n",
       "    </tr>\n",
       "    <tr>\n",
       "      <th>5</th>\n",
       "      <td>45</td>\n",
       "      <td>services</td>\n",
       "      <td>married</td>\n",
       "      <td>basic 9y</td>\n",
       "      <td>unknown</td>\n",
       "      <td>no</td>\n",
       "      <td>no</td>\n",
       "      <td>telephone</td>\n",
       "      <td>may</td>\n",
       "      <td>mon</td>\n",
       "      <td>...</td>\n",
       "      <td>1</td>\n",
       "      <td>999</td>\n",
       "      <td>0</td>\n",
       "      <td>nonexistent</td>\n",
       "      <td>1.1</td>\n",
       "      <td>93.994</td>\n",
       "      <td>-36.4</td>\n",
       "      <td>4.857</td>\n",
       "      <td>5191.0</td>\n",
       "      <td>no</td>\n",
       "    </tr>\n",
       "    <tr>\n",
       "      <th>6</th>\n",
       "      <td>59</td>\n",
       "      <td>admin</td>\n",
       "      <td>married</td>\n",
       "      <td>professional course</td>\n",
       "      <td>no</td>\n",
       "      <td>no</td>\n",
       "      <td>no</td>\n",
       "      <td>telephone</td>\n",
       "      <td>may</td>\n",
       "      <td>mon</td>\n",
       "      <td>...</td>\n",
       "      <td>1</td>\n",
       "      <td>999</td>\n",
       "      <td>0</td>\n",
       "      <td>nonexistent</td>\n",
       "      <td>1.1</td>\n",
       "      <td>93.994</td>\n",
       "      <td>-36.4</td>\n",
       "      <td>4.857</td>\n",
       "      <td>5191.0</td>\n",
       "      <td>no</td>\n",
       "    </tr>\n",
       "    <tr>\n",
       "      <th>7</th>\n",
       "      <td>41</td>\n",
       "      <td>blue-collar</td>\n",
       "      <td>married</td>\n",
       "      <td>unknown</td>\n",
       "      <td>unknown</td>\n",
       "      <td>no</td>\n",
       "      <td>no</td>\n",
       "      <td>telephone</td>\n",
       "      <td>may</td>\n",
       "      <td>mon</td>\n",
       "      <td>...</td>\n",
       "      <td>1</td>\n",
       "      <td>999</td>\n",
       "      <td>0</td>\n",
       "      <td>nonexistent</td>\n",
       "      <td>1.1</td>\n",
       "      <td>93.994</td>\n",
       "      <td>-36.4</td>\n",
       "      <td>4.857</td>\n",
       "      <td>5191.0</td>\n",
       "      <td>no</td>\n",
       "    </tr>\n",
       "    <tr>\n",
       "      <th>8</th>\n",
       "      <td>24</td>\n",
       "      <td>technician</td>\n",
       "      <td>single</td>\n",
       "      <td>professional course</td>\n",
       "      <td>no</td>\n",
       "      <td>yes</td>\n",
       "      <td>no</td>\n",
       "      <td>telephone</td>\n",
       "      <td>may</td>\n",
       "      <td>mon</td>\n",
       "      <td>...</td>\n",
       "      <td>1</td>\n",
       "      <td>999</td>\n",
       "      <td>0</td>\n",
       "      <td>nonexistent</td>\n",
       "      <td>1.1</td>\n",
       "      <td>93.994</td>\n",
       "      <td>-36.4</td>\n",
       "      <td>4.857</td>\n",
       "      <td>5191.0</td>\n",
       "      <td>no</td>\n",
       "    </tr>\n",
       "    <tr>\n",
       "      <th>9</th>\n",
       "      <td>25</td>\n",
       "      <td>services</td>\n",
       "      <td>single</td>\n",
       "      <td>high school</td>\n",
       "      <td>no</td>\n",
       "      <td>yes</td>\n",
       "      <td>no</td>\n",
       "      <td>telephone</td>\n",
       "      <td>may</td>\n",
       "      <td>mon</td>\n",
       "      <td>...</td>\n",
       "      <td>1</td>\n",
       "      <td>999</td>\n",
       "      <td>0</td>\n",
       "      <td>nonexistent</td>\n",
       "      <td>1.1</td>\n",
       "      <td>93.994</td>\n",
       "      <td>-36.4</td>\n",
       "      <td>4.857</td>\n",
       "      <td>5191.0</td>\n",
       "      <td>no</td>\n",
       "    </tr>\n",
       "    <tr>\n",
       "      <th>10</th>\n",
       "      <td>41</td>\n",
       "      <td>blue-collar</td>\n",
       "      <td>married</td>\n",
       "      <td>unknown</td>\n",
       "      <td>unknown</td>\n",
       "      <td>no</td>\n",
       "      <td>no</td>\n",
       "      <td>telephone</td>\n",
       "      <td>may</td>\n",
       "      <td>mon</td>\n",
       "      <td>...</td>\n",
       "      <td>1</td>\n",
       "      <td>999</td>\n",
       "      <td>0</td>\n",
       "      <td>nonexistent</td>\n",
       "      <td>1.1</td>\n",
       "      <td>93.994</td>\n",
       "      <td>-36.4</td>\n",
       "      <td>4.857</td>\n",
       "      <td>5191.0</td>\n",
       "      <td>no</td>\n",
       "    </tr>\n",
       "    <tr>\n",
       "      <th>11</th>\n",
       "      <td>25</td>\n",
       "      <td>services</td>\n",
       "      <td>single</td>\n",
       "      <td>high school</td>\n",
       "      <td>no</td>\n",
       "      <td>yes</td>\n",
       "      <td>no</td>\n",
       "      <td>telephone</td>\n",
       "      <td>may</td>\n",
       "      <td>mon</td>\n",
       "      <td>...</td>\n",
       "      <td>1</td>\n",
       "      <td>999</td>\n",
       "      <td>0</td>\n",
       "      <td>nonexistent</td>\n",
       "      <td>1.1</td>\n",
       "      <td>93.994</td>\n",
       "      <td>-36.4</td>\n",
       "      <td>4.857</td>\n",
       "      <td>5191.0</td>\n",
       "      <td>no</td>\n",
       "    </tr>\n",
       "    <tr>\n",
       "      <th>12</th>\n",
       "      <td>29</td>\n",
       "      <td>blue-collar</td>\n",
       "      <td>single</td>\n",
       "      <td>high school</td>\n",
       "      <td>no</td>\n",
       "      <td>no</td>\n",
       "      <td>yes</td>\n",
       "      <td>telephone</td>\n",
       "      <td>may</td>\n",
       "      <td>mon</td>\n",
       "      <td>...</td>\n",
       "      <td>1</td>\n",
       "      <td>999</td>\n",
       "      <td>0</td>\n",
       "      <td>nonexistent</td>\n",
       "      <td>1.1</td>\n",
       "      <td>93.994</td>\n",
       "      <td>-36.4</td>\n",
       "      <td>4.857</td>\n",
       "      <td>5191.0</td>\n",
       "      <td>no</td>\n",
       "    </tr>\n",
       "    <tr>\n",
       "      <th>13</th>\n",
       "      <td>57</td>\n",
       "      <td>housemaid</td>\n",
       "      <td>divorced</td>\n",
       "      <td>basic 4y</td>\n",
       "      <td>no</td>\n",
       "      <td>yes</td>\n",
       "      <td>no</td>\n",
       "      <td>telephone</td>\n",
       "      <td>may</td>\n",
       "      <td>mon</td>\n",
       "      <td>...</td>\n",
       "      <td>1</td>\n",
       "      <td>999</td>\n",
       "      <td>0</td>\n",
       "      <td>nonexistent</td>\n",
       "      <td>1.1</td>\n",
       "      <td>93.994</td>\n",
       "      <td>-36.4</td>\n",
       "      <td>4.857</td>\n",
       "      <td>5191.0</td>\n",
       "      <td>no</td>\n",
       "    </tr>\n",
       "    <tr>\n",
       "      <th>14</th>\n",
       "      <td>35</td>\n",
       "      <td>blue-collar</td>\n",
       "      <td>married</td>\n",
       "      <td>basic 6y</td>\n",
       "      <td>no</td>\n",
       "      <td>yes</td>\n",
       "      <td>no</td>\n",
       "      <td>telephone</td>\n",
       "      <td>may</td>\n",
       "      <td>mon</td>\n",
       "      <td>...</td>\n",
       "      <td>1</td>\n",
       "      <td>999</td>\n",
       "      <td>0</td>\n",
       "      <td>nonexistent</td>\n",
       "      <td>1.1</td>\n",
       "      <td>93.994</td>\n",
       "      <td>-36.4</td>\n",
       "      <td>4.857</td>\n",
       "      <td>5191.0</td>\n",
       "      <td>no</td>\n",
       "    </tr>\n",
       "    <tr>\n",
       "      <th>15</th>\n",
       "      <td>54</td>\n",
       "      <td>retired</td>\n",
       "      <td>married</td>\n",
       "      <td>basic 9y</td>\n",
       "      <td>unknown</td>\n",
       "      <td>yes</td>\n",
       "      <td>yes</td>\n",
       "      <td>telephone</td>\n",
       "      <td>may</td>\n",
       "      <td>mon</td>\n",
       "      <td>...</td>\n",
       "      <td>1</td>\n",
       "      <td>999</td>\n",
       "      <td>0</td>\n",
       "      <td>nonexistent</td>\n",
       "      <td>1.1</td>\n",
       "      <td>93.994</td>\n",
       "      <td>-36.4</td>\n",
       "      <td>4.857</td>\n",
       "      <td>5191.0</td>\n",
       "      <td>no</td>\n",
       "    </tr>\n",
       "    <tr>\n",
       "      <th>16</th>\n",
       "      <td>35</td>\n",
       "      <td>blue-collar</td>\n",
       "      <td>married</td>\n",
       "      <td>basic 6y</td>\n",
       "      <td>no</td>\n",
       "      <td>yes</td>\n",
       "      <td>no</td>\n",
       "      <td>telephone</td>\n",
       "      <td>may</td>\n",
       "      <td>mon</td>\n",
       "      <td>...</td>\n",
       "      <td>1</td>\n",
       "      <td>999</td>\n",
       "      <td>0</td>\n",
       "      <td>nonexistent</td>\n",
       "      <td>1.1</td>\n",
       "      <td>93.994</td>\n",
       "      <td>-36.4</td>\n",
       "      <td>4.857</td>\n",
       "      <td>5191.0</td>\n",
       "      <td>no</td>\n",
       "    </tr>\n",
       "    <tr>\n",
       "      <th>17</th>\n",
       "      <td>46</td>\n",
       "      <td>blue-collar</td>\n",
       "      <td>married</td>\n",
       "      <td>basic 6y</td>\n",
       "      <td>unknown</td>\n",
       "      <td>yes</td>\n",
       "      <td>yes</td>\n",
       "      <td>telephone</td>\n",
       "      <td>may</td>\n",
       "      <td>mon</td>\n",
       "      <td>...</td>\n",
       "      <td>1</td>\n",
       "      <td>999</td>\n",
       "      <td>0</td>\n",
       "      <td>nonexistent</td>\n",
       "      <td>1.1</td>\n",
       "      <td>93.994</td>\n",
       "      <td>-36.4</td>\n",
       "      <td>4.857</td>\n",
       "      <td>5191.0</td>\n",
       "      <td>no</td>\n",
       "    </tr>\n",
       "    <tr>\n",
       "      <th>18</th>\n",
       "      <td>50</td>\n",
       "      <td>blue-collar</td>\n",
       "      <td>married</td>\n",
       "      <td>basic 9y</td>\n",
       "      <td>no</td>\n",
       "      <td>yes</td>\n",
       "      <td>yes</td>\n",
       "      <td>telephone</td>\n",
       "      <td>may</td>\n",
       "      <td>mon</td>\n",
       "      <td>...</td>\n",
       "      <td>1</td>\n",
       "      <td>999</td>\n",
       "      <td>0</td>\n",
       "      <td>nonexistent</td>\n",
       "      <td>1.1</td>\n",
       "      <td>93.994</td>\n",
       "      <td>-36.4</td>\n",
       "      <td>4.857</td>\n",
       "      <td>5191.0</td>\n",
       "      <td>no</td>\n",
       "    </tr>\n",
       "    <tr>\n",
       "      <th>19</th>\n",
       "      <td>39</td>\n",
       "      <td>management</td>\n",
       "      <td>single</td>\n",
       "      <td>basic 9y</td>\n",
       "      <td>unknown</td>\n",
       "      <td>no</td>\n",
       "      <td>no</td>\n",
       "      <td>telephone</td>\n",
       "      <td>may</td>\n",
       "      <td>mon</td>\n",
       "      <td>...</td>\n",
       "      <td>1</td>\n",
       "      <td>999</td>\n",
       "      <td>0</td>\n",
       "      <td>nonexistent</td>\n",
       "      <td>1.1</td>\n",
       "      <td>93.994</td>\n",
       "      <td>-36.4</td>\n",
       "      <td>4.857</td>\n",
       "      <td>5191.0</td>\n",
       "      <td>no</td>\n",
       "    </tr>\n",
       "    <tr>\n",
       "      <th>20</th>\n",
       "      <td>30</td>\n",
       "      <td>unemployed</td>\n",
       "      <td>married</td>\n",
       "      <td>high school</td>\n",
       "      <td>no</td>\n",
       "      <td>no</td>\n",
       "      <td>no</td>\n",
       "      <td>telephone</td>\n",
       "      <td>may</td>\n",
       "      <td>mon</td>\n",
       "      <td>...</td>\n",
       "      <td>1</td>\n",
       "      <td>999</td>\n",
       "      <td>0</td>\n",
       "      <td>nonexistent</td>\n",
       "      <td>1.1</td>\n",
       "      <td>93.994</td>\n",
       "      <td>-36.4</td>\n",
       "      <td>4.857</td>\n",
       "      <td>5191.0</td>\n",
       "      <td>no</td>\n",
       "    </tr>\n",
       "    <tr>\n",
       "      <th>21</th>\n",
       "      <td>55</td>\n",
       "      <td>blue-collar</td>\n",
       "      <td>married</td>\n",
       "      <td>basic 4y</td>\n",
       "      <td>unknown</td>\n",
       "      <td>yes</td>\n",
       "      <td>no</td>\n",
       "      <td>telephone</td>\n",
       "      <td>may</td>\n",
       "      <td>mon</td>\n",
       "      <td>...</td>\n",
       "      <td>1</td>\n",
       "      <td>999</td>\n",
       "      <td>0</td>\n",
       "      <td>nonexistent</td>\n",
       "      <td>1.1</td>\n",
       "      <td>93.994</td>\n",
       "      <td>-36.4</td>\n",
       "      <td>4.857</td>\n",
       "      <td>5191.0</td>\n",
       "      <td>no</td>\n",
       "    </tr>\n",
       "    <tr>\n",
       "      <th>22</th>\n",
       "      <td>55</td>\n",
       "      <td>retired</td>\n",
       "      <td>single</td>\n",
       "      <td>high school</td>\n",
       "      <td>no</td>\n",
       "      <td>yes</td>\n",
       "      <td>no</td>\n",
       "      <td>telephone</td>\n",
       "      <td>may</td>\n",
       "      <td>mon</td>\n",
       "      <td>...</td>\n",
       "      <td>1</td>\n",
       "      <td>999</td>\n",
       "      <td>0</td>\n",
       "      <td>nonexistent</td>\n",
       "      <td>1.1</td>\n",
       "      <td>93.994</td>\n",
       "      <td>-36.4</td>\n",
       "      <td>4.857</td>\n",
       "      <td>5191.0</td>\n",
       "      <td>no</td>\n",
       "    </tr>\n",
       "    <tr>\n",
       "      <th>23</th>\n",
       "      <td>41</td>\n",
       "      <td>technician</td>\n",
       "      <td>single</td>\n",
       "      <td>high school</td>\n",
       "      <td>no</td>\n",
       "      <td>yes</td>\n",
       "      <td>no</td>\n",
       "      <td>telephone</td>\n",
       "      <td>may</td>\n",
       "      <td>mon</td>\n",
       "      <td>...</td>\n",
       "      <td>1</td>\n",
       "      <td>999</td>\n",
       "      <td>0</td>\n",
       "      <td>nonexistent</td>\n",
       "      <td>1.1</td>\n",
       "      <td>93.994</td>\n",
       "      <td>-36.4</td>\n",
       "      <td>4.857</td>\n",
       "      <td>5191.0</td>\n",
       "      <td>no</td>\n",
       "    </tr>\n",
       "    <tr>\n",
       "      <th>24</th>\n",
       "      <td>37</td>\n",
       "      <td>admin</td>\n",
       "      <td>married</td>\n",
       "      <td>high school</td>\n",
       "      <td>no</td>\n",
       "      <td>yes</td>\n",
       "      <td>no</td>\n",
       "      <td>telephone</td>\n",
       "      <td>may</td>\n",
       "      <td>mon</td>\n",
       "      <td>...</td>\n",
       "      <td>1</td>\n",
       "      <td>999</td>\n",
       "      <td>0</td>\n",
       "      <td>nonexistent</td>\n",
       "      <td>1.1</td>\n",
       "      <td>93.994</td>\n",
       "      <td>-36.4</td>\n",
       "      <td>4.857</td>\n",
       "      <td>5191.0</td>\n",
       "      <td>no</td>\n",
       "    </tr>\n",
       "    <tr>\n",
       "      <th>25</th>\n",
       "      <td>35</td>\n",
       "      <td>technician</td>\n",
       "      <td>married</td>\n",
       "      <td>university degree</td>\n",
       "      <td>no</td>\n",
       "      <td>no</td>\n",
       "      <td>yes</td>\n",
       "      <td>telephone</td>\n",
       "      <td>may</td>\n",
       "      <td>mon</td>\n",
       "      <td>...</td>\n",
       "      <td>1</td>\n",
       "      <td>999</td>\n",
       "      <td>0</td>\n",
       "      <td>nonexistent</td>\n",
       "      <td>1.1</td>\n",
       "      <td>93.994</td>\n",
       "      <td>-36.4</td>\n",
       "      <td>4.857</td>\n",
       "      <td>5191.0</td>\n",
       "      <td>no</td>\n",
       "    </tr>\n",
       "    <tr>\n",
       "      <th>26</th>\n",
       "      <td>59</td>\n",
       "      <td>technician</td>\n",
       "      <td>married</td>\n",
       "      <td>unknown</td>\n",
       "      <td>no</td>\n",
       "      <td>yes</td>\n",
       "      <td>no</td>\n",
       "      <td>telephone</td>\n",
       "      <td>may</td>\n",
       "      <td>mon</td>\n",
       "      <td>...</td>\n",
       "      <td>1</td>\n",
       "      <td>999</td>\n",
       "      <td>0</td>\n",
       "      <td>nonexistent</td>\n",
       "      <td>1.1</td>\n",
       "      <td>93.994</td>\n",
       "      <td>-36.4</td>\n",
       "      <td>4.857</td>\n",
       "      <td>5191.0</td>\n",
       "      <td>no</td>\n",
       "    </tr>\n",
       "    <tr>\n",
       "      <th>27</th>\n",
       "      <td>39</td>\n",
       "      <td>self-employed</td>\n",
       "      <td>married</td>\n",
       "      <td>basic 9y</td>\n",
       "      <td>unknown</td>\n",
       "      <td>no</td>\n",
       "      <td>no</td>\n",
       "      <td>telephone</td>\n",
       "      <td>may</td>\n",
       "      <td>mon</td>\n",
       "      <td>...</td>\n",
       "      <td>1</td>\n",
       "      <td>999</td>\n",
       "      <td>0</td>\n",
       "      <td>nonexistent</td>\n",
       "      <td>1.1</td>\n",
       "      <td>93.994</td>\n",
       "      <td>-36.4</td>\n",
       "      <td>4.857</td>\n",
       "      <td>5191.0</td>\n",
       "      <td>no</td>\n",
       "    </tr>\n",
       "    <tr>\n",
       "      <th>28</th>\n",
       "      <td>54</td>\n",
       "      <td>technician</td>\n",
       "      <td>single</td>\n",
       "      <td>university degree</td>\n",
       "      <td>unknown</td>\n",
       "      <td>no</td>\n",
       "      <td>no</td>\n",
       "      <td>telephone</td>\n",
       "      <td>may</td>\n",
       "      <td>mon</td>\n",
       "      <td>...</td>\n",
       "      <td>2</td>\n",
       "      <td>999</td>\n",
       "      <td>0</td>\n",
       "      <td>nonexistent</td>\n",
       "      <td>1.1</td>\n",
       "      <td>93.994</td>\n",
       "      <td>-36.4</td>\n",
       "      <td>4.857</td>\n",
       "      <td>5191.0</td>\n",
       "      <td>no</td>\n",
       "    </tr>\n",
       "    <tr>\n",
       "      <th>29</th>\n",
       "      <td>55</td>\n",
       "      <td>unknown</td>\n",
       "      <td>married</td>\n",
       "      <td>university degree</td>\n",
       "      <td>unknown</td>\n",
       "      <td>unknown</td>\n",
       "      <td>unknown</td>\n",
       "      <td>telephone</td>\n",
       "      <td>may</td>\n",
       "      <td>mon</td>\n",
       "      <td>...</td>\n",
       "      <td>1</td>\n",
       "      <td>999</td>\n",
       "      <td>0</td>\n",
       "      <td>nonexistent</td>\n",
       "      <td>1.1</td>\n",
       "      <td>93.994</td>\n",
       "      <td>-36.4</td>\n",
       "      <td>4.857</td>\n",
       "      <td>5191.0</td>\n",
       "      <td>no</td>\n",
       "    </tr>\n",
       "    <tr>\n",
       "      <th>30</th>\n",
       "      <td>46</td>\n",
       "      <td>admin</td>\n",
       "      <td>married</td>\n",
       "      <td>unknown</td>\n",
       "      <td>no</td>\n",
       "      <td>no</td>\n",
       "      <td>no</td>\n",
       "      <td>telephone</td>\n",
       "      <td>may</td>\n",
       "      <td>mon</td>\n",
       "      <td>...</td>\n",
       "      <td>1</td>\n",
       "      <td>999</td>\n",
       "      <td>0</td>\n",
       "      <td>nonexistent</td>\n",
       "      <td>1.1</td>\n",
       "      <td>93.994</td>\n",
       "      <td>-36.4</td>\n",
       "      <td>4.857</td>\n",
       "      <td>5191.0</td>\n",
       "      <td>no</td>\n",
       "    </tr>\n",
       "    <tr>\n",
       "      <th>31</th>\n",
       "      <td>59</td>\n",
       "      <td>technician</td>\n",
       "      <td>married</td>\n",
       "      <td>unknown</td>\n",
       "      <td>no</td>\n",
       "      <td>yes</td>\n",
       "      <td>no</td>\n",
       "      <td>telephone</td>\n",
       "      <td>may</td>\n",
       "      <td>mon</td>\n",
       "      <td>...</td>\n",
       "      <td>1</td>\n",
       "      <td>999</td>\n",
       "      <td>0</td>\n",
       "      <td>nonexistent</td>\n",
       "      <td>1.1</td>\n",
       "      <td>93.994</td>\n",
       "      <td>-36.4</td>\n",
       "      <td>4.857</td>\n",
       "      <td>5191.0</td>\n",
       "      <td>no</td>\n",
       "    </tr>\n",
       "    <tr>\n",
       "      <th>32</th>\n",
       "      <td>49</td>\n",
       "      <td>blue-collar</td>\n",
       "      <td>married</td>\n",
       "      <td>unknown</td>\n",
       "      <td>no</td>\n",
       "      <td>no</td>\n",
       "      <td>no</td>\n",
       "      <td>telephone</td>\n",
       "      <td>may</td>\n",
       "      <td>mon</td>\n",
       "      <td>...</td>\n",
       "      <td>1</td>\n",
       "      <td>999</td>\n",
       "      <td>0</td>\n",
       "      <td>nonexistent</td>\n",
       "      <td>1.1</td>\n",
       "      <td>93.994</td>\n",
       "      <td>-36.4</td>\n",
       "      <td>4.857</td>\n",
       "      <td>5191.0</td>\n",
       "      <td>no</td>\n",
       "    </tr>\n",
       "    <tr>\n",
       "      <th>33</th>\n",
       "      <td>54</td>\n",
       "      <td>management</td>\n",
       "      <td>married</td>\n",
       "      <td>basic 4y</td>\n",
       "      <td>unknown</td>\n",
       "      <td>yes</td>\n",
       "      <td>no</td>\n",
       "      <td>telephone</td>\n",
       "      <td>may</td>\n",
       "      <td>mon</td>\n",
       "      <td>...</td>\n",
       "      <td>1</td>\n",
       "      <td>999</td>\n",
       "      <td>0</td>\n",
       "      <td>nonexistent</td>\n",
       "      <td>1.1</td>\n",
       "      <td>93.994</td>\n",
       "      <td>-36.4</td>\n",
       "      <td>4.857</td>\n",
       "      <td>5191.0</td>\n",
       "      <td>no</td>\n",
       "    </tr>\n",
       "    <tr>\n",
       "      <th>34</th>\n",
       "      <td>54</td>\n",
       "      <td>blue-collar</td>\n",
       "      <td>divorced</td>\n",
       "      <td>basic 4y</td>\n",
       "      <td>no</td>\n",
       "      <td>no</td>\n",
       "      <td>no</td>\n",
       "      <td>telephone</td>\n",
       "      <td>may</td>\n",
       "      <td>mon</td>\n",
       "      <td>...</td>\n",
       "      <td>1</td>\n",
       "      <td>999</td>\n",
       "      <td>0</td>\n",
       "      <td>nonexistent</td>\n",
       "      <td>1.1</td>\n",
       "      <td>93.994</td>\n",
       "      <td>-36.4</td>\n",
       "      <td>4.857</td>\n",
       "      <td>5191.0</td>\n",
       "      <td>no</td>\n",
       "    </tr>\n",
       "    <tr>\n",
       "      <th>35</th>\n",
       "      <td>55</td>\n",
       "      <td>unknown</td>\n",
       "      <td>married</td>\n",
       "      <td>basic 4y</td>\n",
       "      <td>unknown</td>\n",
       "      <td>yes</td>\n",
       "      <td>no</td>\n",
       "      <td>telephone</td>\n",
       "      <td>may</td>\n",
       "      <td>mon</td>\n",
       "      <td>...</td>\n",
       "      <td>1</td>\n",
       "      <td>999</td>\n",
       "      <td>0</td>\n",
       "      <td>nonexistent</td>\n",
       "      <td>1.1</td>\n",
       "      <td>93.994</td>\n",
       "      <td>-36.4</td>\n",
       "      <td>4.857</td>\n",
       "      <td>5191.0</td>\n",
       "      <td>no</td>\n",
       "    </tr>\n",
       "    <tr>\n",
       "      <th>36</th>\n",
       "      <td>34</td>\n",
       "      <td>services</td>\n",
       "      <td>married</td>\n",
       "      <td>high school</td>\n",
       "      <td>no</td>\n",
       "      <td>no</td>\n",
       "      <td>no</td>\n",
       "      <td>telephone</td>\n",
       "      <td>may</td>\n",
       "      <td>mon</td>\n",
       "      <td>...</td>\n",
       "      <td>1</td>\n",
       "      <td>999</td>\n",
       "      <td>0</td>\n",
       "      <td>nonexistent</td>\n",
       "      <td>1.1</td>\n",
       "      <td>93.994</td>\n",
       "      <td>-36.4</td>\n",
       "      <td>4.857</td>\n",
       "      <td>5191.0</td>\n",
       "      <td>no</td>\n",
       "    </tr>\n",
       "    <tr>\n",
       "      <th>37</th>\n",
       "      <td>52</td>\n",
       "      <td>technician</td>\n",
       "      <td>married</td>\n",
       "      <td>basic 9y</td>\n",
       "      <td>no</td>\n",
       "      <td>yes</td>\n",
       "      <td>no</td>\n",
       "      <td>telephone</td>\n",
       "      <td>may</td>\n",
       "      <td>mon</td>\n",
       "      <td>...</td>\n",
       "      <td>1</td>\n",
       "      <td>999</td>\n",
       "      <td>0</td>\n",
       "      <td>nonexistent</td>\n",
       "      <td>1.1</td>\n",
       "      <td>93.994</td>\n",
       "      <td>-36.4</td>\n",
       "      <td>4.857</td>\n",
       "      <td>5191.0</td>\n",
       "      <td>no</td>\n",
       "    </tr>\n",
       "    <tr>\n",
       "      <th>38</th>\n",
       "      <td>41</td>\n",
       "      <td>admin</td>\n",
       "      <td>married</td>\n",
       "      <td>university degree</td>\n",
       "      <td>no</td>\n",
       "      <td>yes</td>\n",
       "      <td>no</td>\n",
       "      <td>telephone</td>\n",
       "      <td>may</td>\n",
       "      <td>mon</td>\n",
       "      <td>...</td>\n",
       "      <td>1</td>\n",
       "      <td>999</td>\n",
       "      <td>0</td>\n",
       "      <td>nonexistent</td>\n",
       "      <td>1.1</td>\n",
       "      <td>93.994</td>\n",
       "      <td>-36.4</td>\n",
       "      <td>4.857</td>\n",
       "      <td>5191.0</td>\n",
       "      <td>no</td>\n",
       "    </tr>\n",
       "    <tr>\n",
       "      <th>39</th>\n",
       "      <td>56</td>\n",
       "      <td>technician</td>\n",
       "      <td>married</td>\n",
       "      <td>basic 4y</td>\n",
       "      <td>no</td>\n",
       "      <td>yes</td>\n",
       "      <td>no</td>\n",
       "      <td>telephone</td>\n",
       "      <td>may</td>\n",
       "      <td>mon</td>\n",
       "      <td>...</td>\n",
       "      <td>1</td>\n",
       "      <td>999</td>\n",
       "      <td>0</td>\n",
       "      <td>nonexistent</td>\n",
       "      <td>1.1</td>\n",
       "      <td>93.994</td>\n",
       "      <td>-36.4</td>\n",
       "      <td>4.857</td>\n",
       "      <td>5191.0</td>\n",
       "      <td>no</td>\n",
       "    </tr>\n",
       "  </tbody>\n",
       "</table>\n",
       "<p>40 rows × 21 columns</p>\n",
       "</div>"
      ],
      "text/plain": [
       "    age            job   marital            education  default  housing  \\\n",
       "0    56      housemaid   married             basic 4y       no       no   \n",
       "1    57       services   married          high school  unknown       no   \n",
       "2    37       services   married          high school       no      yes   \n",
       "3    40          admin   married             basic 6y       no       no   \n",
       "4    56       services   married          high school       no       no   \n",
       "5    45       services   married             basic 9y  unknown       no   \n",
       "6    59          admin   married  professional course       no       no   \n",
       "7    41    blue-collar   married              unknown  unknown       no   \n",
       "8    24     technician    single  professional course       no      yes   \n",
       "9    25       services    single          high school       no      yes   \n",
       "10   41    blue-collar   married              unknown  unknown       no   \n",
       "11   25       services    single          high school       no      yes   \n",
       "12   29    blue-collar    single          high school       no       no   \n",
       "13   57      housemaid  divorced             basic 4y       no      yes   \n",
       "14   35    blue-collar   married             basic 6y       no      yes   \n",
       "15   54        retired   married             basic 9y  unknown      yes   \n",
       "16   35    blue-collar   married             basic 6y       no      yes   \n",
       "17   46    blue-collar   married             basic 6y  unknown      yes   \n",
       "18   50    blue-collar   married             basic 9y       no      yes   \n",
       "19   39     management    single             basic 9y  unknown       no   \n",
       "20   30     unemployed   married          high school       no       no   \n",
       "21   55    blue-collar   married             basic 4y  unknown      yes   \n",
       "22   55        retired    single          high school       no      yes   \n",
       "23   41     technician    single          high school       no      yes   \n",
       "24   37          admin   married          high school       no      yes   \n",
       "25   35     technician   married    university degree       no       no   \n",
       "26   59     technician   married              unknown       no      yes   \n",
       "27   39  self-employed   married             basic 9y  unknown       no   \n",
       "28   54     technician    single    university degree  unknown       no   \n",
       "29   55        unknown   married    university degree  unknown  unknown   \n",
       "30   46          admin   married              unknown       no       no   \n",
       "31   59     technician   married              unknown       no      yes   \n",
       "32   49    blue-collar   married              unknown       no       no   \n",
       "33   54     management   married             basic 4y  unknown      yes   \n",
       "34   54    blue-collar  divorced             basic 4y       no       no   \n",
       "35   55        unknown   married             basic 4y  unknown      yes   \n",
       "36   34       services   married          high school       no       no   \n",
       "37   52     technician   married             basic 9y       no      yes   \n",
       "38   41          admin   married    university degree       no      yes   \n",
       "39   56     technician   married             basic 4y       no      yes   \n",
       "\n",
       "       loan    contact month day_of_week  ...  campaign  pdays  previous  \\\n",
       "0        no  telephone   may         mon  ...         1    999         0   \n",
       "1        no  telephone   may         mon  ...         1    999         0   \n",
       "2        no  telephone   may         mon  ...         1    999         0   \n",
       "3        no  telephone   may         mon  ...         1    999         0   \n",
       "4       yes  telephone   may         mon  ...         1    999         0   \n",
       "5        no  telephone   may         mon  ...         1    999         0   \n",
       "6        no  telephone   may         mon  ...         1    999         0   \n",
       "7        no  telephone   may         mon  ...         1    999         0   \n",
       "8        no  telephone   may         mon  ...         1    999         0   \n",
       "9        no  telephone   may         mon  ...         1    999         0   \n",
       "10       no  telephone   may         mon  ...         1    999         0   \n",
       "11       no  telephone   may         mon  ...         1    999         0   \n",
       "12      yes  telephone   may         mon  ...         1    999         0   \n",
       "13       no  telephone   may         mon  ...         1    999         0   \n",
       "14       no  telephone   may         mon  ...         1    999         0   \n",
       "15      yes  telephone   may         mon  ...         1    999         0   \n",
       "16       no  telephone   may         mon  ...         1    999         0   \n",
       "17      yes  telephone   may         mon  ...         1    999         0   \n",
       "18      yes  telephone   may         mon  ...         1    999         0   \n",
       "19       no  telephone   may         mon  ...         1    999         0   \n",
       "20       no  telephone   may         mon  ...         1    999         0   \n",
       "21       no  telephone   may         mon  ...         1    999         0   \n",
       "22       no  telephone   may         mon  ...         1    999         0   \n",
       "23       no  telephone   may         mon  ...         1    999         0   \n",
       "24       no  telephone   may         mon  ...         1    999         0   \n",
       "25      yes  telephone   may         mon  ...         1    999         0   \n",
       "26       no  telephone   may         mon  ...         1    999         0   \n",
       "27       no  telephone   may         mon  ...         1    999         0   \n",
       "28       no  telephone   may         mon  ...         2    999         0   \n",
       "29  unknown  telephone   may         mon  ...         1    999         0   \n",
       "30       no  telephone   may         mon  ...         1    999         0   \n",
       "31       no  telephone   may         mon  ...         1    999         0   \n",
       "32       no  telephone   may         mon  ...         1    999         0   \n",
       "33       no  telephone   may         mon  ...         1    999         0   \n",
       "34       no  telephone   may         mon  ...         1    999         0   \n",
       "35       no  telephone   may         mon  ...         1    999         0   \n",
       "36       no  telephone   may         mon  ...         1    999         0   \n",
       "37       no  telephone   may         mon  ...         1    999         0   \n",
       "38       no  telephone   may         mon  ...         1    999         0   \n",
       "39       no  telephone   may         mon  ...         1    999         0   \n",
       "\n",
       "       poutcome emp.var.rate  cons.price.idx  cons.conf.idx  euribor3m  \\\n",
       "0   nonexistent          1.1          93.994          -36.4      4.857   \n",
       "1   nonexistent          1.1          93.994          -36.4      4.857   \n",
       "2   nonexistent          1.1          93.994          -36.4      4.857   \n",
       "3   nonexistent          1.1          93.994          -36.4      4.857   \n",
       "4   nonexistent          1.1          93.994          -36.4      4.857   \n",
       "5   nonexistent          1.1          93.994          -36.4      4.857   \n",
       "6   nonexistent          1.1          93.994          -36.4      4.857   \n",
       "7   nonexistent          1.1          93.994          -36.4      4.857   \n",
       "8   nonexistent          1.1          93.994          -36.4      4.857   \n",
       "9   nonexistent          1.1          93.994          -36.4      4.857   \n",
       "10  nonexistent          1.1          93.994          -36.4      4.857   \n",
       "11  nonexistent          1.1          93.994          -36.4      4.857   \n",
       "12  nonexistent          1.1          93.994          -36.4      4.857   \n",
       "13  nonexistent          1.1          93.994          -36.4      4.857   \n",
       "14  nonexistent          1.1          93.994          -36.4      4.857   \n",
       "15  nonexistent          1.1          93.994          -36.4      4.857   \n",
       "16  nonexistent          1.1          93.994          -36.4      4.857   \n",
       "17  nonexistent          1.1          93.994          -36.4      4.857   \n",
       "18  nonexistent          1.1          93.994          -36.4      4.857   \n",
       "19  nonexistent          1.1          93.994          -36.4      4.857   \n",
       "20  nonexistent          1.1          93.994          -36.4      4.857   \n",
       "21  nonexistent          1.1          93.994          -36.4      4.857   \n",
       "22  nonexistent          1.1          93.994          -36.4      4.857   \n",
       "23  nonexistent          1.1          93.994          -36.4      4.857   \n",
       "24  nonexistent          1.1          93.994          -36.4      4.857   \n",
       "25  nonexistent          1.1          93.994          -36.4      4.857   \n",
       "26  nonexistent          1.1          93.994          -36.4      4.857   \n",
       "27  nonexistent          1.1          93.994          -36.4      4.857   \n",
       "28  nonexistent          1.1          93.994          -36.4      4.857   \n",
       "29  nonexistent          1.1          93.994          -36.4      4.857   \n",
       "30  nonexistent          1.1          93.994          -36.4      4.857   \n",
       "31  nonexistent          1.1          93.994          -36.4      4.857   \n",
       "32  nonexistent          1.1          93.994          -36.4      4.857   \n",
       "33  nonexistent          1.1          93.994          -36.4      4.857   \n",
       "34  nonexistent          1.1          93.994          -36.4      4.857   \n",
       "35  nonexistent          1.1          93.994          -36.4      4.857   \n",
       "36  nonexistent          1.1          93.994          -36.4      4.857   \n",
       "37  nonexistent          1.1          93.994          -36.4      4.857   \n",
       "38  nonexistent          1.1          93.994          -36.4      4.857   \n",
       "39  nonexistent          1.1          93.994          -36.4      4.857   \n",
       "\n",
       "    nr.employed   y  \n",
       "0        5191.0  no  \n",
       "1        5191.0  no  \n",
       "2        5191.0  no  \n",
       "3        5191.0  no  \n",
       "4        5191.0  no  \n",
       "5        5191.0  no  \n",
       "6        5191.0  no  \n",
       "7        5191.0  no  \n",
       "8        5191.0  no  \n",
       "9        5191.0  no  \n",
       "10       5191.0  no  \n",
       "11       5191.0  no  \n",
       "12       5191.0  no  \n",
       "13       5191.0  no  \n",
       "14       5191.0  no  \n",
       "15       5191.0  no  \n",
       "16       5191.0  no  \n",
       "17       5191.0  no  \n",
       "18       5191.0  no  \n",
       "19       5191.0  no  \n",
       "20       5191.0  no  \n",
       "21       5191.0  no  \n",
       "22       5191.0  no  \n",
       "23       5191.0  no  \n",
       "24       5191.0  no  \n",
       "25       5191.0  no  \n",
       "26       5191.0  no  \n",
       "27       5191.0  no  \n",
       "28       5191.0  no  \n",
       "29       5191.0  no  \n",
       "30       5191.0  no  \n",
       "31       5191.0  no  \n",
       "32       5191.0  no  \n",
       "33       5191.0  no  \n",
       "34       5191.0  no  \n",
       "35       5191.0  no  \n",
       "36       5191.0  no  \n",
       "37       5191.0  no  \n",
       "38       5191.0  no  \n",
       "39       5191.0  no  \n",
       "\n",
       "[40 rows x 21 columns]"
      ]
     },
     "execution_count": 36,
     "metadata": {},
     "output_type": "execute_result"
    }
   ],
   "source": [
    "df['education'].replace({'basic.4y' : 'basic 4y', 'basic.6y' : 'basic 6y', 'basic.9y' : 'basic 9y', 'high.school' : 'high school', 'professional.course' : 'professional course', 'university.degree' : 'university degree'}, inplace = True)\n",
    "df['job'].replace({'admin.' : 'admin'}, inplace = True)\n",
    "df.head(n=40)"
   ]
  },
  {
   "cell_type": "code",
   "execution_count": 37,
   "id": "783cf01c",
   "metadata": {},
   "outputs": [
    {
     "data": {
      "text/plain": [
       "array(['basic 4y', 'high school', 'basic 6y', 'basic 9y',\n",
       "       'professional course', 'unknown', 'university degree',\n",
       "       'illiterate'], dtype=object)"
      ]
     },
     "execution_count": 37,
     "metadata": {},
     "output_type": "execute_result"
    }
   ],
   "source": [
    "df['education'].unique()"
   ]
  },
  {
   "cell_type": "markdown",
   "id": "289eb32d",
   "metadata": {},
   "source": [
    "### Missing Values"
   ]
  },
  {
   "cell_type": "code",
   "execution_count": 38,
   "id": "b45ecd7d",
   "metadata": {},
   "outputs": [
    {
     "data": {
      "text/plain": [
       "age               0\n",
       "job               0\n",
       "marital           0\n",
       "education         0\n",
       "default           0\n",
       "housing           0\n",
       "loan              0\n",
       "contact           0\n",
       "month             0\n",
       "day_of_week       0\n",
       "duration          0\n",
       "campaign          0\n",
       "pdays             0\n",
       "previous          0\n",
       "poutcome          0\n",
       "emp.var.rate      0\n",
       "cons.price.idx    0\n",
       "cons.conf.idx     0\n",
       "euribor3m         0\n",
       "nr.employed       0\n",
       "y                 0\n",
       "dtype: int64"
      ]
     },
     "execution_count": 38,
     "metadata": {},
     "output_type": "execute_result"
    }
   ],
   "source": [
    "df.isnull().sum()"
   ]
  },
  {
   "cell_type": "markdown",
   "id": "b24c3872",
   "metadata": {},
   "source": [
    "Fortunately, there are no missing values in the dataset. However, after exploring we find that 5 of the categorical variables have an \"unknown\" value. Those are the only missing values which do not need to be dealt with for now as the \"unknown\" category is already created for them. However, deleting them will not affect the dataset so much as they constitute a very small proportion of the dataset. So, we will consider deleting them."
   ]
  },
  {
   "cell_type": "code",
   "execution_count": 39,
   "id": "1d1367d1",
   "metadata": {},
   "outputs": [
    {
     "data": {
      "text/plain": [
       "age                  0\n",
       "job                330\n",
       "marital             80\n",
       "education         1730\n",
       "default           8596\n",
       "housing            990\n",
       "loan               990\n",
       "contact              0\n",
       "month                0\n",
       "day_of_week          0\n",
       "duration             0\n",
       "campaign             0\n",
       "pdays                0\n",
       "previous             0\n",
       "poutcome             0\n",
       "emp.var.rate         0\n",
       "cons.price.idx       0\n",
       "cons.conf.idx        0\n",
       "euribor3m            0\n",
       "nr.employed          0\n",
       "y                    0\n",
       "dtype: int64"
      ]
     },
     "execution_count": 39,
     "metadata": {},
     "output_type": "execute_result"
    }
   ],
   "source": [
    "# To handle the missing values, we first turn the 'unknown' observations to NaNs\n",
    "df = df.replace('unknown', np.nan)\n",
    "df.isnull().sum()"
   ]
  },
  {
   "cell_type": "code",
   "execution_count": 40,
   "id": "2935e6a7",
   "metadata": {},
   "outputs": [],
   "source": [
    "#using partial deletion of the missing values on the job and marital attributes as those attributes do not show a strong relationship between the known/unknown status and target response.\n",
    "df = df.dropna(subset=['job', 'marital'])"
   ]
  },
  {
   "cell_type": "markdown",
   "id": "6b2227d8",
   "metadata": {},
   "source": [
    "### Mapping month column"
   ]
  },
  {
   "cell_type": "code",
   "execution_count": 41,
   "id": "47757faa",
   "metadata": {},
   "outputs": [],
   "source": [
    "m = {'jan':1, 'feb':2, 'mar':3, 'apr':4, 'may':5, 'jun':6, 'jul':7, 'aug':8, 'sep':9, 'oct':10, 'nov':11, 'dec':12}"
   ]
  },
  {
   "cell_type": "code",
   "execution_count": 42,
   "id": "7e389630",
   "metadata": {},
   "outputs": [],
   "source": [
    "df[\"month\"] = df[\"month\"].map(m)"
   ]
  },
  {
   "cell_type": "code",
   "execution_count": 43,
   "id": "86c38706",
   "metadata": {},
   "outputs": [
    {
     "data": {
      "text/html": [
       "<div>\n",
       "<style scoped>\n",
       "    .dataframe tbody tr th:only-of-type {\n",
       "        vertical-align: middle;\n",
       "    }\n",
       "\n",
       "    .dataframe tbody tr th {\n",
       "        vertical-align: top;\n",
       "    }\n",
       "\n",
       "    .dataframe thead th {\n",
       "        text-align: right;\n",
       "    }\n",
       "</style>\n",
       "<table border=\"1\" class=\"dataframe\">\n",
       "  <thead>\n",
       "    <tr style=\"text-align: right;\">\n",
       "      <th></th>\n",
       "      <th>age</th>\n",
       "      <th>job</th>\n",
       "      <th>marital</th>\n",
       "      <th>education</th>\n",
       "      <th>default</th>\n",
       "      <th>housing</th>\n",
       "      <th>loan</th>\n",
       "      <th>contact</th>\n",
       "      <th>month</th>\n",
       "      <th>day_of_week</th>\n",
       "      <th>...</th>\n",
       "      <th>campaign</th>\n",
       "      <th>pdays</th>\n",
       "      <th>previous</th>\n",
       "      <th>poutcome</th>\n",
       "      <th>emp.var.rate</th>\n",
       "      <th>cons.price.idx</th>\n",
       "      <th>cons.conf.idx</th>\n",
       "      <th>euribor3m</th>\n",
       "      <th>nr.employed</th>\n",
       "      <th>y</th>\n",
       "    </tr>\n",
       "  </thead>\n",
       "  <tbody>\n",
       "    <tr>\n",
       "      <th>0</th>\n",
       "      <td>56</td>\n",
       "      <td>housemaid</td>\n",
       "      <td>married</td>\n",
       "      <td>basic 4y</td>\n",
       "      <td>no</td>\n",
       "      <td>no</td>\n",
       "      <td>no</td>\n",
       "      <td>telephone</td>\n",
       "      <td>5</td>\n",
       "      <td>mon</td>\n",
       "      <td>...</td>\n",
       "      <td>1</td>\n",
       "      <td>999</td>\n",
       "      <td>0</td>\n",
       "      <td>nonexistent</td>\n",
       "      <td>1.1</td>\n",
       "      <td>93.994</td>\n",
       "      <td>-36.4</td>\n",
       "      <td>4.857</td>\n",
       "      <td>5191.0</td>\n",
       "      <td>no</td>\n",
       "    </tr>\n",
       "    <tr>\n",
       "      <th>1</th>\n",
       "      <td>57</td>\n",
       "      <td>services</td>\n",
       "      <td>married</td>\n",
       "      <td>high school</td>\n",
       "      <td>NaN</td>\n",
       "      <td>no</td>\n",
       "      <td>no</td>\n",
       "      <td>telephone</td>\n",
       "      <td>5</td>\n",
       "      <td>mon</td>\n",
       "      <td>...</td>\n",
       "      <td>1</td>\n",
       "      <td>999</td>\n",
       "      <td>0</td>\n",
       "      <td>nonexistent</td>\n",
       "      <td>1.1</td>\n",
       "      <td>93.994</td>\n",
       "      <td>-36.4</td>\n",
       "      <td>4.857</td>\n",
       "      <td>5191.0</td>\n",
       "      <td>no</td>\n",
       "    </tr>\n",
       "    <tr>\n",
       "      <th>2</th>\n",
       "      <td>37</td>\n",
       "      <td>services</td>\n",
       "      <td>married</td>\n",
       "      <td>high school</td>\n",
       "      <td>no</td>\n",
       "      <td>yes</td>\n",
       "      <td>no</td>\n",
       "      <td>telephone</td>\n",
       "      <td>5</td>\n",
       "      <td>mon</td>\n",
       "      <td>...</td>\n",
       "      <td>1</td>\n",
       "      <td>999</td>\n",
       "      <td>0</td>\n",
       "      <td>nonexistent</td>\n",
       "      <td>1.1</td>\n",
       "      <td>93.994</td>\n",
       "      <td>-36.4</td>\n",
       "      <td>4.857</td>\n",
       "      <td>5191.0</td>\n",
       "      <td>no</td>\n",
       "    </tr>\n",
       "    <tr>\n",
       "      <th>3</th>\n",
       "      <td>40</td>\n",
       "      <td>admin</td>\n",
       "      <td>married</td>\n",
       "      <td>basic 6y</td>\n",
       "      <td>no</td>\n",
       "      <td>no</td>\n",
       "      <td>no</td>\n",
       "      <td>telephone</td>\n",
       "      <td>5</td>\n",
       "      <td>mon</td>\n",
       "      <td>...</td>\n",
       "      <td>1</td>\n",
       "      <td>999</td>\n",
       "      <td>0</td>\n",
       "      <td>nonexistent</td>\n",
       "      <td>1.1</td>\n",
       "      <td>93.994</td>\n",
       "      <td>-36.4</td>\n",
       "      <td>4.857</td>\n",
       "      <td>5191.0</td>\n",
       "      <td>no</td>\n",
       "    </tr>\n",
       "    <tr>\n",
       "      <th>4</th>\n",
       "      <td>56</td>\n",
       "      <td>services</td>\n",
       "      <td>married</td>\n",
       "      <td>high school</td>\n",
       "      <td>no</td>\n",
       "      <td>no</td>\n",
       "      <td>yes</td>\n",
       "      <td>telephone</td>\n",
       "      <td>5</td>\n",
       "      <td>mon</td>\n",
       "      <td>...</td>\n",
       "      <td>1</td>\n",
       "      <td>999</td>\n",
       "      <td>0</td>\n",
       "      <td>nonexistent</td>\n",
       "      <td>1.1</td>\n",
       "      <td>93.994</td>\n",
       "      <td>-36.4</td>\n",
       "      <td>4.857</td>\n",
       "      <td>5191.0</td>\n",
       "      <td>no</td>\n",
       "    </tr>\n",
       "  </tbody>\n",
       "</table>\n",
       "<p>5 rows × 21 columns</p>\n",
       "</div>"
      ],
      "text/plain": [
       "   age        job  marital    education default housing loan    contact  \\\n",
       "0   56  housemaid  married     basic 4y      no      no   no  telephone   \n",
       "1   57   services  married  high school     NaN      no   no  telephone   \n",
       "2   37   services  married  high school      no     yes   no  telephone   \n",
       "3   40      admin  married     basic 6y      no      no   no  telephone   \n",
       "4   56   services  married  high school      no      no  yes  telephone   \n",
       "\n",
       "   month day_of_week  ...  campaign  pdays  previous     poutcome  \\\n",
       "0      5         mon  ...         1    999         0  nonexistent   \n",
       "1      5         mon  ...         1    999         0  nonexistent   \n",
       "2      5         mon  ...         1    999         0  nonexistent   \n",
       "3      5         mon  ...         1    999         0  nonexistent   \n",
       "4      5         mon  ...         1    999         0  nonexistent   \n",
       "\n",
       "  emp.var.rate  cons.price.idx  cons.conf.idx  euribor3m  nr.employed   y  \n",
       "0          1.1          93.994          -36.4      4.857       5191.0  no  \n",
       "1          1.1          93.994          -36.4      4.857       5191.0  no  \n",
       "2          1.1          93.994          -36.4      4.857       5191.0  no  \n",
       "3          1.1          93.994          -36.4      4.857       5191.0  no  \n",
       "4          1.1          93.994          -36.4      4.857       5191.0  no  \n",
       "\n",
       "[5 rows x 21 columns]"
      ]
     },
     "execution_count": 43,
     "metadata": {},
     "output_type": "execute_result"
    }
   ],
   "source": [
    "df.head()"
   ]
  },
  {
   "cell_type": "markdown",
   "id": "be26faee",
   "metadata": {},
   "source": [
    "### Creating month-day column"
   ]
  },
  {
   "cell_type": "code",
   "execution_count": 44,
   "id": "0e4a7589",
   "metadata": {},
   "outputs": [
    {
     "data": {
      "text/html": [
       "<div>\n",
       "<style scoped>\n",
       "    .dataframe tbody tr th:only-of-type {\n",
       "        vertical-align: middle;\n",
       "    }\n",
       "\n",
       "    .dataframe tbody tr th {\n",
       "        vertical-align: top;\n",
       "    }\n",
       "\n",
       "    .dataframe thead th {\n",
       "        text-align: right;\n",
       "    }\n",
       "</style>\n",
       "<table border=\"1\" class=\"dataframe\">\n",
       "  <thead>\n",
       "    <tr style=\"text-align: right;\">\n",
       "      <th></th>\n",
       "      <th>age</th>\n",
       "      <th>job</th>\n",
       "      <th>marital</th>\n",
       "      <th>education</th>\n",
       "      <th>default</th>\n",
       "      <th>housing</th>\n",
       "      <th>loan</th>\n",
       "      <th>contact</th>\n",
       "      <th>month</th>\n",
       "      <th>day_of_week</th>\n",
       "      <th>...</th>\n",
       "      <th>pdays</th>\n",
       "      <th>previous</th>\n",
       "      <th>poutcome</th>\n",
       "      <th>emp.var.rate</th>\n",
       "      <th>cons.price.idx</th>\n",
       "      <th>cons.conf.idx</th>\n",
       "      <th>euribor3m</th>\n",
       "      <th>nr.employed</th>\n",
       "      <th>y</th>\n",
       "      <th>month-day</th>\n",
       "    </tr>\n",
       "  </thead>\n",
       "  <tbody>\n",
       "    <tr>\n",
       "      <th>0</th>\n",
       "      <td>56</td>\n",
       "      <td>housemaid</td>\n",
       "      <td>married</td>\n",
       "      <td>basic 4y</td>\n",
       "      <td>no</td>\n",
       "      <td>no</td>\n",
       "      <td>no</td>\n",
       "      <td>telephone</td>\n",
       "      <td>5</td>\n",
       "      <td>mon</td>\n",
       "      <td>...</td>\n",
       "      <td>999</td>\n",
       "      <td>0</td>\n",
       "      <td>nonexistent</td>\n",
       "      <td>1.1</td>\n",
       "      <td>93.994</td>\n",
       "      <td>-36.4</td>\n",
       "      <td>4.857</td>\n",
       "      <td>5191.0</td>\n",
       "      <td>no</td>\n",
       "      <td>5-mon</td>\n",
       "    </tr>\n",
       "    <tr>\n",
       "      <th>1</th>\n",
       "      <td>57</td>\n",
       "      <td>services</td>\n",
       "      <td>married</td>\n",
       "      <td>high school</td>\n",
       "      <td>NaN</td>\n",
       "      <td>no</td>\n",
       "      <td>no</td>\n",
       "      <td>telephone</td>\n",
       "      <td>5</td>\n",
       "      <td>mon</td>\n",
       "      <td>...</td>\n",
       "      <td>999</td>\n",
       "      <td>0</td>\n",
       "      <td>nonexistent</td>\n",
       "      <td>1.1</td>\n",
       "      <td>93.994</td>\n",
       "      <td>-36.4</td>\n",
       "      <td>4.857</td>\n",
       "      <td>5191.0</td>\n",
       "      <td>no</td>\n",
       "      <td>5-mon</td>\n",
       "    </tr>\n",
       "    <tr>\n",
       "      <th>2</th>\n",
       "      <td>37</td>\n",
       "      <td>services</td>\n",
       "      <td>married</td>\n",
       "      <td>high school</td>\n",
       "      <td>no</td>\n",
       "      <td>yes</td>\n",
       "      <td>no</td>\n",
       "      <td>telephone</td>\n",
       "      <td>5</td>\n",
       "      <td>mon</td>\n",
       "      <td>...</td>\n",
       "      <td>999</td>\n",
       "      <td>0</td>\n",
       "      <td>nonexistent</td>\n",
       "      <td>1.1</td>\n",
       "      <td>93.994</td>\n",
       "      <td>-36.4</td>\n",
       "      <td>4.857</td>\n",
       "      <td>5191.0</td>\n",
       "      <td>no</td>\n",
       "      <td>5-mon</td>\n",
       "    </tr>\n",
       "    <tr>\n",
       "      <th>3</th>\n",
       "      <td>40</td>\n",
       "      <td>admin</td>\n",
       "      <td>married</td>\n",
       "      <td>basic 6y</td>\n",
       "      <td>no</td>\n",
       "      <td>no</td>\n",
       "      <td>no</td>\n",
       "      <td>telephone</td>\n",
       "      <td>5</td>\n",
       "      <td>mon</td>\n",
       "      <td>...</td>\n",
       "      <td>999</td>\n",
       "      <td>0</td>\n",
       "      <td>nonexistent</td>\n",
       "      <td>1.1</td>\n",
       "      <td>93.994</td>\n",
       "      <td>-36.4</td>\n",
       "      <td>4.857</td>\n",
       "      <td>5191.0</td>\n",
       "      <td>no</td>\n",
       "      <td>5-mon</td>\n",
       "    </tr>\n",
       "    <tr>\n",
       "      <th>4</th>\n",
       "      <td>56</td>\n",
       "      <td>services</td>\n",
       "      <td>married</td>\n",
       "      <td>high school</td>\n",
       "      <td>no</td>\n",
       "      <td>no</td>\n",
       "      <td>yes</td>\n",
       "      <td>telephone</td>\n",
       "      <td>5</td>\n",
       "      <td>mon</td>\n",
       "      <td>...</td>\n",
       "      <td>999</td>\n",
       "      <td>0</td>\n",
       "      <td>nonexistent</td>\n",
       "      <td>1.1</td>\n",
       "      <td>93.994</td>\n",
       "      <td>-36.4</td>\n",
       "      <td>4.857</td>\n",
       "      <td>5191.0</td>\n",
       "      <td>no</td>\n",
       "      <td>5-mon</td>\n",
       "    </tr>\n",
       "  </tbody>\n",
       "</table>\n",
       "<p>5 rows × 22 columns</p>\n",
       "</div>"
      ],
      "text/plain": [
       "   age        job  marital    education default housing loan    contact  \\\n",
       "0   56  housemaid  married     basic 4y      no      no   no  telephone   \n",
       "1   57   services  married  high school     NaN      no   no  telephone   \n",
       "2   37   services  married  high school      no     yes   no  telephone   \n",
       "3   40      admin  married     basic 6y      no      no   no  telephone   \n",
       "4   56   services  married  high school      no      no  yes  telephone   \n",
       "\n",
       "   month day_of_week  ...  pdays  previous     poutcome  emp.var.rate  \\\n",
       "0      5         mon  ...    999         0  nonexistent           1.1   \n",
       "1      5         mon  ...    999         0  nonexistent           1.1   \n",
       "2      5         mon  ...    999         0  nonexistent           1.1   \n",
       "3      5         mon  ...    999         0  nonexistent           1.1   \n",
       "4      5         mon  ...    999         0  nonexistent           1.1   \n",
       "\n",
       "  cons.price.idx  cons.conf.idx  euribor3m  nr.employed   y  month-day  \n",
       "0         93.994          -36.4      4.857       5191.0  no      5-mon  \n",
       "1         93.994          -36.4      4.857       5191.0  no      5-mon  \n",
       "2         93.994          -36.4      4.857       5191.0  no      5-mon  \n",
       "3         93.994          -36.4      4.857       5191.0  no      5-mon  \n",
       "4         93.994          -36.4      4.857       5191.0  no      5-mon  \n",
       "\n",
       "[5 rows x 22 columns]"
      ]
     },
     "execution_count": 44,
     "metadata": {},
     "output_type": "execute_result"
    }
   ],
   "source": [
    "df[\"month-day\"] = df['month'].astype('str') + \"-\" + df['day_of_week'].astype('str')\n",
    "df.head()"
   ]
  },
  {
   "cell_type": "markdown",
   "id": "e343580e",
   "metadata": {},
   "source": [
    "### pdays column value correction"
   ]
  },
  {
   "cell_type": "code",
   "execution_count": 45,
   "id": "fe675896",
   "metadata": {},
   "outputs": [],
   "source": [
    "df['pdays'].mask(df['pdays'] == 999, 0, inplace=True)"
   ]
  },
  {
   "cell_type": "code",
   "execution_count": 46,
   "id": "72e9b448",
   "metadata": {},
   "outputs": [
    {
     "data": {
      "text/html": [
       "<div>\n",
       "<style scoped>\n",
       "    .dataframe tbody tr th:only-of-type {\n",
       "        vertical-align: middle;\n",
       "    }\n",
       "\n",
       "    .dataframe tbody tr th {\n",
       "        vertical-align: top;\n",
       "    }\n",
       "\n",
       "    .dataframe thead th {\n",
       "        text-align: right;\n",
       "    }\n",
       "</style>\n",
       "<table border=\"1\" class=\"dataframe\">\n",
       "  <thead>\n",
       "    <tr style=\"text-align: right;\">\n",
       "      <th></th>\n",
       "      <th>age</th>\n",
       "      <th>job</th>\n",
       "      <th>marital</th>\n",
       "      <th>education</th>\n",
       "      <th>default</th>\n",
       "      <th>housing</th>\n",
       "      <th>loan</th>\n",
       "      <th>contact</th>\n",
       "      <th>month</th>\n",
       "      <th>day_of_week</th>\n",
       "      <th>...</th>\n",
       "      <th>pdays</th>\n",
       "      <th>previous</th>\n",
       "      <th>poutcome</th>\n",
       "      <th>emp.var.rate</th>\n",
       "      <th>cons.price.idx</th>\n",
       "      <th>cons.conf.idx</th>\n",
       "      <th>euribor3m</th>\n",
       "      <th>nr.employed</th>\n",
       "      <th>y</th>\n",
       "      <th>month-day</th>\n",
       "    </tr>\n",
       "  </thead>\n",
       "  <tbody>\n",
       "    <tr>\n",
       "      <th>0</th>\n",
       "      <td>56</td>\n",
       "      <td>housemaid</td>\n",
       "      <td>married</td>\n",
       "      <td>basic 4y</td>\n",
       "      <td>no</td>\n",
       "      <td>no</td>\n",
       "      <td>no</td>\n",
       "      <td>telephone</td>\n",
       "      <td>5</td>\n",
       "      <td>mon</td>\n",
       "      <td>...</td>\n",
       "      <td>0</td>\n",
       "      <td>0</td>\n",
       "      <td>nonexistent</td>\n",
       "      <td>1.1</td>\n",
       "      <td>93.994</td>\n",
       "      <td>-36.4</td>\n",
       "      <td>4.857</td>\n",
       "      <td>5191.0</td>\n",
       "      <td>no</td>\n",
       "      <td>5-mon</td>\n",
       "    </tr>\n",
       "    <tr>\n",
       "      <th>1</th>\n",
       "      <td>57</td>\n",
       "      <td>services</td>\n",
       "      <td>married</td>\n",
       "      <td>high school</td>\n",
       "      <td>NaN</td>\n",
       "      <td>no</td>\n",
       "      <td>no</td>\n",
       "      <td>telephone</td>\n",
       "      <td>5</td>\n",
       "      <td>mon</td>\n",
       "      <td>...</td>\n",
       "      <td>0</td>\n",
       "      <td>0</td>\n",
       "      <td>nonexistent</td>\n",
       "      <td>1.1</td>\n",
       "      <td>93.994</td>\n",
       "      <td>-36.4</td>\n",
       "      <td>4.857</td>\n",
       "      <td>5191.0</td>\n",
       "      <td>no</td>\n",
       "      <td>5-mon</td>\n",
       "    </tr>\n",
       "    <tr>\n",
       "      <th>2</th>\n",
       "      <td>37</td>\n",
       "      <td>services</td>\n",
       "      <td>married</td>\n",
       "      <td>high school</td>\n",
       "      <td>no</td>\n",
       "      <td>yes</td>\n",
       "      <td>no</td>\n",
       "      <td>telephone</td>\n",
       "      <td>5</td>\n",
       "      <td>mon</td>\n",
       "      <td>...</td>\n",
       "      <td>0</td>\n",
       "      <td>0</td>\n",
       "      <td>nonexistent</td>\n",
       "      <td>1.1</td>\n",
       "      <td>93.994</td>\n",
       "      <td>-36.4</td>\n",
       "      <td>4.857</td>\n",
       "      <td>5191.0</td>\n",
       "      <td>no</td>\n",
       "      <td>5-mon</td>\n",
       "    </tr>\n",
       "    <tr>\n",
       "      <th>3</th>\n",
       "      <td>40</td>\n",
       "      <td>admin</td>\n",
       "      <td>married</td>\n",
       "      <td>basic 6y</td>\n",
       "      <td>no</td>\n",
       "      <td>no</td>\n",
       "      <td>no</td>\n",
       "      <td>telephone</td>\n",
       "      <td>5</td>\n",
       "      <td>mon</td>\n",
       "      <td>...</td>\n",
       "      <td>0</td>\n",
       "      <td>0</td>\n",
       "      <td>nonexistent</td>\n",
       "      <td>1.1</td>\n",
       "      <td>93.994</td>\n",
       "      <td>-36.4</td>\n",
       "      <td>4.857</td>\n",
       "      <td>5191.0</td>\n",
       "      <td>no</td>\n",
       "      <td>5-mon</td>\n",
       "    </tr>\n",
       "    <tr>\n",
       "      <th>4</th>\n",
       "      <td>56</td>\n",
       "      <td>services</td>\n",
       "      <td>married</td>\n",
       "      <td>high school</td>\n",
       "      <td>no</td>\n",
       "      <td>no</td>\n",
       "      <td>yes</td>\n",
       "      <td>telephone</td>\n",
       "      <td>5</td>\n",
       "      <td>mon</td>\n",
       "      <td>...</td>\n",
       "      <td>0</td>\n",
       "      <td>0</td>\n",
       "      <td>nonexistent</td>\n",
       "      <td>1.1</td>\n",
       "      <td>93.994</td>\n",
       "      <td>-36.4</td>\n",
       "      <td>4.857</td>\n",
       "      <td>5191.0</td>\n",
       "      <td>no</td>\n",
       "      <td>5-mon</td>\n",
       "    </tr>\n",
       "  </tbody>\n",
       "</table>\n",
       "<p>5 rows × 22 columns</p>\n",
       "</div>"
      ],
      "text/plain": [
       "   age        job  marital    education default housing loan    contact  \\\n",
       "0   56  housemaid  married     basic 4y      no      no   no  telephone   \n",
       "1   57   services  married  high school     NaN      no   no  telephone   \n",
       "2   37   services  married  high school      no     yes   no  telephone   \n",
       "3   40      admin  married     basic 6y      no      no   no  telephone   \n",
       "4   56   services  married  high school      no      no  yes  telephone   \n",
       "\n",
       "   month day_of_week  ...  pdays  previous     poutcome  emp.var.rate  \\\n",
       "0      5         mon  ...      0         0  nonexistent           1.1   \n",
       "1      5         mon  ...      0         0  nonexistent           1.1   \n",
       "2      5         mon  ...      0         0  nonexistent           1.1   \n",
       "3      5         mon  ...      0         0  nonexistent           1.1   \n",
       "4      5         mon  ...      0         0  nonexistent           1.1   \n",
       "\n",
       "  cons.price.idx  cons.conf.idx  euribor3m  nr.employed   y  month-day  \n",
       "0         93.994          -36.4      4.857       5191.0  no      5-mon  \n",
       "1         93.994          -36.4      4.857       5191.0  no      5-mon  \n",
       "2         93.994          -36.4      4.857       5191.0  no      5-mon  \n",
       "3         93.994          -36.4      4.857       5191.0  no      5-mon  \n",
       "4         93.994          -36.4      4.857       5191.0  no      5-mon  \n",
       "\n",
       "[5 rows x 22 columns]"
      ]
     },
     "execution_count": 46,
     "metadata": {},
     "output_type": "execute_result"
    }
   ],
   "source": [
    "df.head()"
   ]
  },
  {
   "cell_type": "markdown",
   "id": "b63dde40",
   "metadata": {},
   "source": [
    "# Outlier"
   ]
  },
  {
   "cell_type": "markdown",
   "id": "758b71aa",
   "metadata": {},
   "source": [
    "we are using box plot method to detect outlier.\n",
    "Outlier points</b> = Q3 + 1.5 IQR(Upper Quartile) , Q1 - 1.5 IQR(Lower Quartile)"
   ]
  },
  {
   "cell_type": "code",
   "execution_count": 47,
   "id": "e9fd83c6",
   "metadata": {},
   "outputs": [
    {
     "data": {
      "text/plain": [
       "['age',\n",
       " 'duration',\n",
       " 'campaign',\n",
       " 'pdays',\n",
       " 'previous',\n",
       " 'emp.var.rate',\n",
       " 'cons.price.idx',\n",
       " 'cons.conf.idx',\n",
       " 'euribor3m',\n",
       " 'nr.employed']"
      ]
     },
     "execution_count": 47,
     "metadata": {},
     "output_type": "execute_result"
    }
   ],
   "source": [
    "numerical_var"
   ]
  },
  {
   "cell_type": "code",
   "execution_count": 48,
   "id": "0cf53587",
   "metadata": {},
   "outputs": [
    {
     "data": {
      "image/png": "[encoded data removed]",
      "text/plain": [
       "<Figure size 1296x1440 with 12 Axes>"
      ]
     },
     "metadata": {
      "needs_background": "light"
     },
     "output_type": "display_data"
    }
   ],
   "source": [
    "fig,axes = plt.subplots(4, 3, figsize=(18, 20))\n",
    "fig.suptitle('Boxplot graph')\n",
    "count = 0;\n",
    "for i in range(4):\n",
    "    for j in range(3):\n",
    "        if( count < len(numerical_var)):\n",
    "            sns.boxplot(ax=axes[i,j], x=numerical_var[count], data=df)\n",
    "            count = count + 1"
   ]
  },
  {
   "cell_type": "markdown",
   "id": "1c2ed6bb",
   "metadata": {},
   "source": [
    "From the above Boxplot graph, we can clearly see that age, duration, campaign and cons.conf.idx contain outlier. However, after carefully analyzing the variables, we see that age follows a log normal distribution and we can perform a log transformation to handle most of the age outliers. Also, age outliers are not some problem. It may give us valuable information about how different age groups buy deposit. Similarly, pdays have outliers due to the fact that most of the values are 0 due to the customer not being contacted before. For this reason, this variable contain valuable information in the outliers. Outliers present in the Campaign variable also shows important info about how people respond if they are contacted multiple times and therefore should not be removed. Same goes for previous variable. "
   ]
  },
  {
   "cell_type": "markdown",
   "id": "56889649",
   "metadata": {},
   "source": [
    "The duration variable contains some outliers which are too big values which is unusual. For example the largest value in the distribution is about 5000 seconds i.e, 83 minutes. Although not impossible, Its hard to beleive a customer would talk so long about the deposit. The call might be made to a relative. We should check if the customers who stayed on call for very long bought the term deposit or not to decide if we should remove the outliers or not. "
   ]
  },
  {
   "cell_type": "code",
   "execution_count": 49,
   "id": "66fa5889",
   "metadata": {},
   "outputs": [
    {
     "data": {
      "text/html": [
       "<div>\n",
       "<style scoped>\n",
       "    .dataframe tbody tr th:only-of-type {\n",
       "        vertical-align: middle;\n",
       "    }\n",
       "\n",
       "    .dataframe tbody tr th {\n",
       "        vertical-align: top;\n",
       "    }\n",
       "\n",
       "    .dataframe thead th {\n",
       "        text-align: right;\n",
       "    }\n",
       "</style>\n",
       "<table border=\"1\" class=\"dataframe\">\n",
       "  <thead>\n",
       "    <tr style=\"text-align: right;\">\n",
       "      <th></th>\n",
       "      <th>age</th>\n",
       "      <th>job</th>\n",
       "      <th>marital</th>\n",
       "      <th>education</th>\n",
       "      <th>default</th>\n",
       "      <th>housing</th>\n",
       "      <th>loan</th>\n",
       "      <th>contact</th>\n",
       "      <th>month</th>\n",
       "      <th>day_of_week</th>\n",
       "      <th>...</th>\n",
       "      <th>pdays</th>\n",
       "      <th>previous</th>\n",
       "      <th>poutcome</th>\n",
       "      <th>emp.var.rate</th>\n",
       "      <th>cons.price.idx</th>\n",
       "      <th>cons.conf.idx</th>\n",
       "      <th>euribor3m</th>\n",
       "      <th>nr.employed</th>\n",
       "      <th>y</th>\n",
       "      <th>month-day</th>\n",
       "    </tr>\n",
       "  </thead>\n",
       "  <tbody>\n",
       "    <tr>\n",
       "      <th>7727</th>\n",
       "      <td>37</td>\n",
       "      <td>unemployed</td>\n",
       "      <td>married</td>\n",
       "      <td>professional course</td>\n",
       "      <td>no</td>\n",
       "      <td>yes</td>\n",
       "      <td>no</td>\n",
       "      <td>telephone</td>\n",
       "      <td>5</td>\n",
       "      <td>fri</td>\n",
       "      <td>...</td>\n",
       "      <td>0</td>\n",
       "      <td>0</td>\n",
       "      <td>nonexistent</td>\n",
       "      <td>1.1</td>\n",
       "      <td>93.994</td>\n",
       "      <td>-36.4</td>\n",
       "      <td>4.864</td>\n",
       "      <td>5191.0</td>\n",
       "      <td>yes</td>\n",
       "      <td>5-fri</td>\n",
       "    </tr>\n",
       "    <tr>\n",
       "      <th>13820</th>\n",
       "      <td>31</td>\n",
       "      <td>technician</td>\n",
       "      <td>married</td>\n",
       "      <td>professional course</td>\n",
       "      <td>no</td>\n",
       "      <td>no</td>\n",
       "      <td>no</td>\n",
       "      <td>cellular</td>\n",
       "      <td>7</td>\n",
       "      <td>thu</td>\n",
       "      <td>...</td>\n",
       "      <td>0</td>\n",
       "      <td>0</td>\n",
       "      <td>nonexistent</td>\n",
       "      <td>1.4</td>\n",
       "      <td>93.918</td>\n",
       "      <td>-42.7</td>\n",
       "      <td>4.963</td>\n",
       "      <td>5228.1</td>\n",
       "      <td>yes</td>\n",
       "      <td>7-thu</td>\n",
       "    </tr>\n",
       "    <tr>\n",
       "      <th>22192</th>\n",
       "      <td>52</td>\n",
       "      <td>blue-collar</td>\n",
       "      <td>married</td>\n",
       "      <td>basic 4y</td>\n",
       "      <td>no</td>\n",
       "      <td>no</td>\n",
       "      <td>no</td>\n",
       "      <td>telephone</td>\n",
       "      <td>8</td>\n",
       "      <td>thu</td>\n",
       "      <td>...</td>\n",
       "      <td>0</td>\n",
       "      <td>0</td>\n",
       "      <td>nonexistent</td>\n",
       "      <td>1.4</td>\n",
       "      <td>93.444</td>\n",
       "      <td>-36.1</td>\n",
       "      <td>4.963</td>\n",
       "      <td>5228.1</td>\n",
       "      <td>yes</td>\n",
       "      <td>8-thu</td>\n",
       "    </tr>\n",
       "    <tr>\n",
       "      <th>24091</th>\n",
       "      <td>33</td>\n",
       "      <td>technician</td>\n",
       "      <td>single</td>\n",
       "      <td>professional course</td>\n",
       "      <td>no</td>\n",
       "      <td>yes</td>\n",
       "      <td>no</td>\n",
       "      <td>telephone</td>\n",
       "      <td>11</td>\n",
       "      <td>mon</td>\n",
       "      <td>...</td>\n",
       "      <td>0</td>\n",
       "      <td>0</td>\n",
       "      <td>nonexistent</td>\n",
       "      <td>-0.1</td>\n",
       "      <td>93.200</td>\n",
       "      <td>-42.0</td>\n",
       "      <td>4.406</td>\n",
       "      <td>5195.8</td>\n",
       "      <td>no</td>\n",
       "      <td>11-mon</td>\n",
       "    </tr>\n",
       "    <tr>\n",
       "      <th>36043</th>\n",
       "      <td>28</td>\n",
       "      <td>blue-collar</td>\n",
       "      <td>married</td>\n",
       "      <td>basic 9y</td>\n",
       "      <td>no</td>\n",
       "      <td>yes</td>\n",
       "      <td>no</td>\n",
       "      <td>cellular</td>\n",
       "      <td>5</td>\n",
       "      <td>tue</td>\n",
       "      <td>...</td>\n",
       "      <td>3</td>\n",
       "      <td>2</td>\n",
       "      <td>success</td>\n",
       "      <td>-1.8</td>\n",
       "      <td>92.893</td>\n",
       "      <td>-46.2</td>\n",
       "      <td>1.266</td>\n",
       "      <td>5099.1</td>\n",
       "      <td>no</td>\n",
       "      <td>5-tue</td>\n",
       "    </tr>\n",
       "    <tr>\n",
       "      <th>40537</th>\n",
       "      <td>27</td>\n",
       "      <td>admin</td>\n",
       "      <td>single</td>\n",
       "      <td>high school</td>\n",
       "      <td>no</td>\n",
       "      <td>no</td>\n",
       "      <td>no</td>\n",
       "      <td>telephone</td>\n",
       "      <td>8</td>\n",
       "      <td>fri</td>\n",
       "      <td>...</td>\n",
       "      <td>0</td>\n",
       "      <td>0</td>\n",
       "      <td>nonexistent</td>\n",
       "      <td>-1.7</td>\n",
       "      <td>94.027</td>\n",
       "      <td>-38.3</td>\n",
       "      <td>0.888</td>\n",
       "      <td>4991.6</td>\n",
       "      <td>no</td>\n",
       "      <td>8-fri</td>\n",
       "    </tr>\n",
       "  </tbody>\n",
       "</table>\n",
       "<p>6 rows × 22 columns</p>\n",
       "</div>"
      ],
      "text/plain": [
       "       age          job  marital            education default housing loan  \\\n",
       "7727    37   unemployed  married  professional course      no     yes   no   \n",
       "13820   31   technician  married  professional course      no      no   no   \n",
       "22192   52  blue-collar  married             basic 4y      no      no   no   \n",
       "24091   33   technician   single  professional course      no     yes   no   \n",
       "36043   28  blue-collar  married             basic 9y      no     yes   no   \n",
       "40537   27        admin   single          high school      no      no   no   \n",
       "\n",
       "         contact  month day_of_week  ...  pdays  previous     poutcome  \\\n",
       "7727   telephone      5         fri  ...      0         0  nonexistent   \n",
       "13820   cellular      7         thu  ...      0         0  nonexistent   \n",
       "22192  telephone      8         thu  ...      0         0  nonexistent   \n",
       "24091  telephone     11         mon  ...      0         0  nonexistent   \n",
       "36043   cellular      5         tue  ...      3         2      success   \n",
       "40537  telephone      8         fri  ...      0         0  nonexistent   \n",
       "\n",
       "       emp.var.rate cons.price.idx  cons.conf.idx  euribor3m  nr.employed  \\\n",
       "7727            1.1         93.994          -36.4      4.864       5191.0   \n",
       "13820           1.4         93.918          -42.7      4.963       5228.1   \n",
       "22192           1.4         93.444          -36.1      4.963       5228.1   \n",
       "24091          -0.1         93.200          -42.0      4.406       5195.8   \n",
       "36043          -1.8         92.893          -46.2      1.266       5099.1   \n",
       "40537          -1.7         94.027          -38.3      0.888       4991.6   \n",
       "\n",
       "         y  month-day  \n",
       "7727   yes      5-fri  \n",
       "13820  yes      7-thu  \n",
       "22192  yes      8-thu  \n",
       "24091   no     11-mon  \n",
       "36043   no      5-tue  \n",
       "40537   no      8-fri  \n",
       "\n",
       "[6 rows x 22 columns]"
      ]
     },
     "execution_count": 49,
     "metadata": {},
     "output_type": "execute_result"
    }
   ],
   "source": [
    "df[df['duration'] > 3500]"
   ]
  },
  {
   "cell_type": "markdown",
   "id": "3fc2473d",
   "metadata": {},
   "source": [
    "Among the 6 people that with calls greater than 3500 seconds, 3 of them bought the deposit which means that the long duration of calls is not just a mistake or call to a relative. The customers were interested in the deposit or the salesperson was a smooth talker. Note also that 5 of these people are not contacted before which means that the duration represent one time call. We will also keep the outliers for duration as it is also a valuable information and removing them to fit the distribution would not be very wise."
   ]
  },
  {
   "cell_type": "markdown",
   "id": "d18b77f4",
   "metadata": {},
   "source": [
    "cons.conf.idx contains one outlier that looks suspicious. However note that the outlier is not far away from the distribution. "
   ]
  },
  {
   "cell_type": "code",
   "execution_count": 50,
   "id": "d8697b1e",
   "metadata": {},
   "outputs": [
    {
     "data": {
      "text/html": [
       "<div>\n",
       "<style scoped>\n",
       "    .dataframe tbody tr th:only-of-type {\n",
       "        vertical-align: middle;\n",
       "    }\n",
       "\n",
       "    .dataframe tbody tr th {\n",
       "        vertical-align: top;\n",
       "    }\n",
       "\n",
       "    .dataframe thead th {\n",
       "        text-align: right;\n",
       "    }\n",
       "</style>\n",
       "<table border=\"1\" class=\"dataframe\">\n",
       "  <thead>\n",
       "    <tr style=\"text-align: right;\">\n",
       "      <th></th>\n",
       "      <th>age</th>\n",
       "      <th>job</th>\n",
       "      <th>marital</th>\n",
       "      <th>education</th>\n",
       "      <th>default</th>\n",
       "      <th>housing</th>\n",
       "      <th>loan</th>\n",
       "      <th>contact</th>\n",
       "      <th>month</th>\n",
       "      <th>day_of_week</th>\n",
       "      <th>...</th>\n",
       "      <th>pdays</th>\n",
       "      <th>previous</th>\n",
       "      <th>poutcome</th>\n",
       "      <th>emp.var.rate</th>\n",
       "      <th>cons.price.idx</th>\n",
       "      <th>cons.conf.idx</th>\n",
       "      <th>euribor3m</th>\n",
       "      <th>nr.employed</th>\n",
       "      <th>y</th>\n",
       "      <th>month-day</th>\n",
       "    </tr>\n",
       "  </thead>\n",
       "  <tbody>\n",
       "    <tr>\n",
       "      <th>37887</th>\n",
       "      <td>53</td>\n",
       "      <td>admin</td>\n",
       "      <td>married</td>\n",
       "      <td>university degree</td>\n",
       "      <td>NaN</td>\n",
       "      <td>yes</td>\n",
       "      <td>no</td>\n",
       "      <td>cellular</td>\n",
       "      <td>9</td>\n",
       "      <td>tue</td>\n",
       "      <td>...</td>\n",
       "      <td>0</td>\n",
       "      <td>0</td>\n",
       "      <td>nonexistent</td>\n",
       "      <td>-3.4</td>\n",
       "      <td>92.379</td>\n",
       "      <td>-29.8</td>\n",
       "      <td>0.819</td>\n",
       "      <td>5017.5</td>\n",
       "      <td>no</td>\n",
       "      <td>9-tue</td>\n",
       "    </tr>\n",
       "    <tr>\n",
       "      <th>37888</th>\n",
       "      <td>32</td>\n",
       "      <td>admin</td>\n",
       "      <td>single</td>\n",
       "      <td>university degree</td>\n",
       "      <td>no</td>\n",
       "      <td>yes</td>\n",
       "      <td>yes</td>\n",
       "      <td>cellular</td>\n",
       "      <td>9</td>\n",
       "      <td>tue</td>\n",
       "      <td>...</td>\n",
       "      <td>0</td>\n",
       "      <td>0</td>\n",
       "      <td>nonexistent</td>\n",
       "      <td>-3.4</td>\n",
       "      <td>92.379</td>\n",
       "      <td>-29.8</td>\n",
       "      <td>0.819</td>\n",
       "      <td>5017.5</td>\n",
       "      <td>no</td>\n",
       "      <td>9-tue</td>\n",
       "    </tr>\n",
       "    <tr>\n",
       "      <th>37889</th>\n",
       "      <td>52</td>\n",
       "      <td>admin</td>\n",
       "      <td>married</td>\n",
       "      <td>NaN</td>\n",
       "      <td>no</td>\n",
       "      <td>no</td>\n",
       "      <td>no</td>\n",
       "      <td>telephone</td>\n",
       "      <td>9</td>\n",
       "      <td>tue</td>\n",
       "      <td>...</td>\n",
       "      <td>0</td>\n",
       "      <td>0</td>\n",
       "      <td>nonexistent</td>\n",
       "      <td>-3.4</td>\n",
       "      <td>92.379</td>\n",
       "      <td>-29.8</td>\n",
       "      <td>0.819</td>\n",
       "      <td>5017.5</td>\n",
       "      <td>no</td>\n",
       "      <td>9-tue</td>\n",
       "    </tr>\n",
       "    <tr>\n",
       "      <th>37890</th>\n",
       "      <td>39</td>\n",
       "      <td>entrepreneur</td>\n",
       "      <td>married</td>\n",
       "      <td>basic 6y</td>\n",
       "      <td>no</td>\n",
       "      <td>yes</td>\n",
       "      <td>no</td>\n",
       "      <td>cellular</td>\n",
       "      <td>9</td>\n",
       "      <td>tue</td>\n",
       "      <td>...</td>\n",
       "      <td>16</td>\n",
       "      <td>1</td>\n",
       "      <td>success</td>\n",
       "      <td>-3.4</td>\n",
       "      <td>92.379</td>\n",
       "      <td>-29.8</td>\n",
       "      <td>0.819</td>\n",
       "      <td>5017.5</td>\n",
       "      <td>yes</td>\n",
       "      <td>9-tue</td>\n",
       "    </tr>\n",
       "    <tr>\n",
       "      <th>37891</th>\n",
       "      <td>32</td>\n",
       "      <td>admin</td>\n",
       "      <td>single</td>\n",
       "      <td>university degree</td>\n",
       "      <td>no</td>\n",
       "      <td>yes</td>\n",
       "      <td>no</td>\n",
       "      <td>cellular</td>\n",
       "      <td>9</td>\n",
       "      <td>tue</td>\n",
       "      <td>...</td>\n",
       "      <td>0</td>\n",
       "      <td>0</td>\n",
       "      <td>nonexistent</td>\n",
       "      <td>-3.4</td>\n",
       "      <td>92.379</td>\n",
       "      <td>-29.8</td>\n",
       "      <td>0.819</td>\n",
       "      <td>5017.5</td>\n",
       "      <td>no</td>\n",
       "      <td>9-tue</td>\n",
       "    </tr>\n",
       "    <tr>\n",
       "      <th>...</th>\n",
       "      <td>...</td>\n",
       "      <td>...</td>\n",
       "      <td>...</td>\n",
       "      <td>...</td>\n",
       "      <td>...</td>\n",
       "      <td>...</td>\n",
       "      <td>...</td>\n",
       "      <td>...</td>\n",
       "      <td>...</td>\n",
       "      <td>...</td>\n",
       "      <td>...</td>\n",
       "      <td>...</td>\n",
       "      <td>...</td>\n",
       "      <td>...</td>\n",
       "      <td>...</td>\n",
       "      <td>...</td>\n",
       "      <td>...</td>\n",
       "      <td>...</td>\n",
       "      <td>...</td>\n",
       "      <td>...</td>\n",
       "      <td>...</td>\n",
       "    </tr>\n",
       "    <tr>\n",
       "      <th>38596</th>\n",
       "      <td>69</td>\n",
       "      <td>retired</td>\n",
       "      <td>married</td>\n",
       "      <td>basic 4y</td>\n",
       "      <td>no</td>\n",
       "      <td>yes</td>\n",
       "      <td>yes</td>\n",
       "      <td>cellular</td>\n",
       "      <td>10</td>\n",
       "      <td>fri</td>\n",
       "      <td>...</td>\n",
       "      <td>0</td>\n",
       "      <td>0</td>\n",
       "      <td>nonexistent</td>\n",
       "      <td>-3.4</td>\n",
       "      <td>92.431</td>\n",
       "      <td>-26.9</td>\n",
       "      <td>0.720</td>\n",
       "      <td>5017.5</td>\n",
       "      <td>yes</td>\n",
       "      <td>10-fri</td>\n",
       "    </tr>\n",
       "    <tr>\n",
       "      <th>38597</th>\n",
       "      <td>18</td>\n",
       "      <td>student</td>\n",
       "      <td>single</td>\n",
       "      <td>basic 6y</td>\n",
       "      <td>no</td>\n",
       "      <td>no</td>\n",
       "      <td>yes</td>\n",
       "      <td>cellular</td>\n",
       "      <td>10</td>\n",
       "      <td>fri</td>\n",
       "      <td>...</td>\n",
       "      <td>0</td>\n",
       "      <td>0</td>\n",
       "      <td>nonexistent</td>\n",
       "      <td>-3.4</td>\n",
       "      <td>92.431</td>\n",
       "      <td>-26.9</td>\n",
       "      <td>0.720</td>\n",
       "      <td>5017.5</td>\n",
       "      <td>yes</td>\n",
       "      <td>10-fri</td>\n",
       "    </tr>\n",
       "    <tr>\n",
       "      <th>38598</th>\n",
       "      <td>59</td>\n",
       "      <td>retired</td>\n",
       "      <td>divorced</td>\n",
       "      <td>basic 4y</td>\n",
       "      <td>no</td>\n",
       "      <td>yes</td>\n",
       "      <td>no</td>\n",
       "      <td>telephone</td>\n",
       "      <td>10</td>\n",
       "      <td>fri</td>\n",
       "      <td>...</td>\n",
       "      <td>0</td>\n",
       "      <td>0</td>\n",
       "      <td>nonexistent</td>\n",
       "      <td>-3.4</td>\n",
       "      <td>92.431</td>\n",
       "      <td>-26.9</td>\n",
       "      <td>0.720</td>\n",
       "      <td>5017.5</td>\n",
       "      <td>no</td>\n",
       "      <td>10-fri</td>\n",
       "    </tr>\n",
       "    <tr>\n",
       "      <th>38599</th>\n",
       "      <td>37</td>\n",
       "      <td>admin</td>\n",
       "      <td>single</td>\n",
       "      <td>university degree</td>\n",
       "      <td>no</td>\n",
       "      <td>no</td>\n",
       "      <td>no</td>\n",
       "      <td>cellular</td>\n",
       "      <td>10</td>\n",
       "      <td>fri</td>\n",
       "      <td>...</td>\n",
       "      <td>0</td>\n",
       "      <td>0</td>\n",
       "      <td>nonexistent</td>\n",
       "      <td>-3.4</td>\n",
       "      <td>92.431</td>\n",
       "      <td>-26.9</td>\n",
       "      <td>0.720</td>\n",
       "      <td>5017.5</td>\n",
       "      <td>yes</td>\n",
       "      <td>10-fri</td>\n",
       "    </tr>\n",
       "    <tr>\n",
       "      <th>38600</th>\n",
       "      <td>78</td>\n",
       "      <td>retired</td>\n",
       "      <td>divorced</td>\n",
       "      <td>basic 6y</td>\n",
       "      <td>no</td>\n",
       "      <td>no</td>\n",
       "      <td>no</td>\n",
       "      <td>telephone</td>\n",
       "      <td>10</td>\n",
       "      <td>fri</td>\n",
       "      <td>...</td>\n",
       "      <td>0</td>\n",
       "      <td>0</td>\n",
       "      <td>nonexistent</td>\n",
       "      <td>-3.4</td>\n",
       "      <td>92.431</td>\n",
       "      <td>-26.9</td>\n",
       "      <td>0.720</td>\n",
       "      <td>5017.5</td>\n",
       "      <td>no</td>\n",
       "      <td>10-fri</td>\n",
       "    </tr>\n",
       "  </tbody>\n",
       "</table>\n",
       "<p>698 rows × 22 columns</p>\n",
       "</div>"
      ],
      "text/plain": [
       "       age           job   marital          education default housing loan  \\\n",
       "37887   53         admin   married  university degree     NaN     yes   no   \n",
       "37888   32         admin    single  university degree      no     yes  yes   \n",
       "37889   52         admin   married                NaN      no      no   no   \n",
       "37890   39  entrepreneur   married           basic 6y      no     yes   no   \n",
       "37891   32         admin    single  university degree      no     yes   no   \n",
       "...    ...           ...       ...                ...     ...     ...  ...   \n",
       "38596   69       retired   married           basic 4y      no     yes  yes   \n",
       "38597   18       student    single           basic 6y      no      no  yes   \n",
       "38598   59       retired  divorced           basic 4y      no     yes   no   \n",
       "38599   37         admin    single  university degree      no      no   no   \n",
       "38600   78       retired  divorced           basic 6y      no      no   no   \n",
       "\n",
       "         contact  month day_of_week  ...  pdays  previous     poutcome  \\\n",
       "37887   cellular      9         tue  ...      0         0  nonexistent   \n",
       "37888   cellular      9         tue  ...      0         0  nonexistent   \n",
       "37889  telephone      9         tue  ...      0         0  nonexistent   \n",
       "37890   cellular      9         tue  ...     16         1      success   \n",
       "37891   cellular      9         tue  ...      0         0  nonexistent   \n",
       "...          ...    ...         ...  ...    ...       ...          ...   \n",
       "38596   cellular     10         fri  ...      0         0  nonexistent   \n",
       "38597   cellular     10         fri  ...      0         0  nonexistent   \n",
       "38598  telephone     10         fri  ...      0         0  nonexistent   \n",
       "38599   cellular     10         fri  ...      0         0  nonexistent   \n",
       "38600  telephone     10         fri  ...      0         0  nonexistent   \n",
       "\n",
       "       emp.var.rate cons.price.idx  cons.conf.idx  euribor3m  nr.employed  \\\n",
       "37887          -3.4         92.379          -29.8      0.819       5017.5   \n",
       "37888          -3.4         92.379          -29.8      0.819       5017.5   \n",
       "37889          -3.4         92.379          -29.8      0.819       5017.5   \n",
       "37890          -3.4         92.379          -29.8      0.819       5017.5   \n",
       "37891          -3.4         92.379          -29.8      0.819       5017.5   \n",
       "...             ...            ...            ...        ...          ...   \n",
       "38596          -3.4         92.431          -26.9      0.720       5017.5   \n",
       "38597          -3.4         92.431          -26.9      0.720       5017.5   \n",
       "38598          -3.4         92.431          -26.9      0.720       5017.5   \n",
       "38599          -3.4         92.431          -26.9      0.720       5017.5   \n",
       "38600          -3.4         92.431          -26.9      0.720       5017.5   \n",
       "\n",
       "         y  month-day  \n",
       "37887   no      9-tue  \n",
       "37888   no      9-tue  \n",
       "37889   no      9-tue  \n",
       "37890  yes      9-tue  \n",
       "37891   no      9-tue  \n",
       "...    ...        ...  \n",
       "38596  yes     10-fri  \n",
       "38597  yes     10-fri  \n",
       "38598   no     10-fri  \n",
       "38599  yes     10-fri  \n",
       "38600   no     10-fri  \n",
       "\n",
       "[698 rows x 22 columns]"
      ]
     },
     "execution_count": 50,
     "metadata": {},
     "output_type": "execute_result"
    }
   ],
   "source": [
    "df[df['cons.conf.idx'] > -30]"
   ]
  },
  {
   "cell_type": "markdown",
   "id": "3a910a27",
   "metadata": {},
   "source": [
    "Again, there is not good enough reason to remove the outliers in the cons.conf.idx"
   ]
  },
  {
   "cell_type": "markdown",
   "id": "ade82343",
   "metadata": {},
   "source": [
    "#### Age column log-transformed"
   ]
  },
  {
   "cell_type": "code",
   "execution_count": 51,
   "id": "520f2d9a",
   "metadata": {},
   "outputs": [],
   "source": [
    "# There are several outliers in the age column. This can be handled by transforming them\n",
    "# Transorming the outliers using log so the distribution can become more normally distributed\n",
    "df['log_age'] = [np.log(x) for x in df['age']]"
   ]
  },
  {
   "cell_type": "code",
   "execution_count": 52,
   "id": "00ac5857",
   "metadata": {
    "scrolled": true
   },
   "outputs": [
    {
     "data": {
      "image/png": "[encoded data removed]",
      "text/plain": [
       "<Figure size 720x504 with 1 Axes>"
      ]
     },
     "metadata": {
      "needs_background": "light"
     },
     "output_type": "display_data"
    }
   ],
   "source": [
    "fig = plt.figure(figsize =(10, 7))\n",
    " \n",
    "# Creating plot\n",
    "plt.boxplot(df[\"log_age\"])\n",
    " \n",
    "# show plot\n",
    "plt.show()"
   ]
  },
  {
   "cell_type": "markdown",
   "id": "752dfcdb",
   "metadata": {},
   "source": [
    "#### Removing Outliers "
   ]
  },
  {
   "cell_type": "code",
   "execution_count": 53,
   "id": "33442c97",
   "metadata": {},
   "outputs": [],
   "source": [
    "# here we have defined generic function to remove outlier from any column with any dataset\n",
    "def removeOutlier(dataset:pd.DataFrame, column:str, remove: bool, lowerCutoff, upperCutoff):\n",
    "    Q1 = dataset[column].quantile(lowerCutoff / 100)\n",
    "    Q3 = dataset[column].quantile(upperCutoff / 100)\n",
    "    \n",
    "    IQR = Q3-Q1\n",
    "    lower_limit = Q1 - IQR*1.5\n",
    "    upper_limit = Q3 + IQR*1.5\n",
    "    \n",
    "    # here, we have tow solution. Ether we can remove the outlier or replace it with upper limit.\n",
    "    if remove:\n",
    "        temp = dataset[(dataset[column] < lower_limit) or (dataset[column] > upper_limit)]\n",
    "    else:\n",
    "        dataset.loc[dataset[column] < lower_limit, column] = lower_limit \n",
    "        dataset.loc[dataset[column] > upper_limit, column] = upper_limit\n",
    "#         We can also use Replace values of Given column by using np.where() function.\n",
    "#         dataset[column] = np.where(dataset[column] > upper_limit, upper_limit, dataset[column])"
   ]
  },
  {
   "cell_type": "code",
   "execution_count": 54,
   "id": "2686c96e",
   "metadata": {},
   "outputs": [],
   "source": [
    "# df[df['duration'] > 3500]['duration'].min()"
   ]
  },
  {
   "cell_type": "code",
   "execution_count": 55,
   "id": "20e39088",
   "metadata": {},
   "outputs": [],
   "source": [
    "# # here lower side there is no outlier but upper side, it is clearly visible that after 3500 the frequency descresed. \n",
    "# # we replace 3500+ value with 3500 value.\n",
    "# # duration(df, 'duration', False, 0, 95)\n",
    "# upper_limit = 3500\n",
    "# df.loc[df['duration'] > upper_limit, 'duration'] = upper_limit "
   ]
  },
  {
   "cell_type": "code",
   "execution_count": 56,
   "id": "9fc6c928",
   "metadata": {},
   "outputs": [],
   "source": [
    "# df[df['campaign'] > 34]['campaign']"
   ]
  },
  {
   "cell_type": "code",
   "execution_count": 57,
   "id": "859b795e",
   "metadata": {},
   "outputs": [],
   "source": [
    "# # here lower side there is no campaign but upper side, it is clearly visible the gap in value after 35. So we set 35 as cutoff value \n",
    "# # we replace 3500+ value with 3500 value.\n",
    "# # duration(df, 'duration', False, 0, 95)\n",
    "# upper_limit = 34\n",
    "# df.loc[df['campaign'] > upper_limit, 'campaign'] = upper_limit "
   ]
  },
  {
   "cell_type": "code",
   "execution_count": 58,
   "id": "e2bf5edb",
   "metadata": {},
   "outputs": [],
   "source": [
    "# # here lower side there is no outlier but upper side, it is slightly noticable so we are taking 95% data.\n",
    "# upper_limit = -30\n",
    "# df.loc[df['cons.conf.idx'] > upper_limit, 'cons.conf.idx'] = upper_limit "
   ]
  },
  {
   "cell_type": "code",
   "execution_count": 59,
   "id": "9750984d",
   "metadata": {},
   "outputs": [],
   "source": [
    "# fig,axes = plt.subplots(4, 3, figsize=(18, 20))\n",
    "# fig.suptitle('Boxplot graph')\n",
    "# count = 0;\n",
    "# for i in range(4):\n",
    "#     for j in range(3):\n",
    "#         if( count < len(numerical_var)):\n",
    "#             sns.boxplot(ax=axes[i,j], x=numerical_var[count], data=df)\n",
    "#             count = count + 1"
   ]
  },
  {
   "cell_type": "markdown",
   "id": "378fbf56",
   "metadata": {},
   "source": [
    "In above graph, we can see that we have hanlded outlier point at some extent."
   ]
  },
  {
   "cell_type": "markdown",
   "id": "c63aa483",
   "metadata": {},
   "source": [
    "# *Data Analysis"
   ]
  },
  {
   "cell_type": "markdown",
   "id": "e573cb7a",
   "metadata": {},
   "source": [
    "## Target Variable Analysis"
   ]
  },
  {
   "cell_type": "code",
   "execution_count": 60,
   "id": "96e49171",
   "metadata": {},
   "outputs": [
    {
     "data": {
      "text/plain": [
       "<AxesSubplot:title={'center':'Target y'}, xlabel='y', ylabel='% outcomes'>"
      ]
     },
     "execution_count": 60,
     "metadata": {},
     "output_type": "execute_result"
    },
    {
     "data": {
      "image/png": "[encoded data removed]",
      "text/plain": [
       "<Figure size 432x288 with 1 Axes>"
      ]
     },
     "metadata": {
      "needs_background": "light"
     },
     "output_type": "display_data"
    }
   ],
   "source": [
    "df[target_var].value_counts(normalize=True).plot(kind=\"bar\", ylabel = \"% outcomes\", title = \"Target y\")"
   ]
  },
  {
   "cell_type": "markdown",
   "id": "164ea977",
   "metadata": {},
   "source": [
    "The data suggest an imbalance in the target variable which means very small proportion of the people agreed to buy the term deposit (10%) compared to people who did not (90%). This can affect the performance of our model so an oversampling technique must be applied before model building. "
   ]
  },
  {
   "cell_type": "code",
   "execution_count": 61,
   "id": "1938234c",
   "metadata": {},
   "outputs": [
    {
     "data": {
      "text/html": [
       "<div>\n",
       "<style scoped>\n",
       "    .dataframe tbody tr th:only-of-type {\n",
       "        vertical-align: middle;\n",
       "    }\n",
       "\n",
       "    .dataframe tbody tr th {\n",
       "        vertical-align: top;\n",
       "    }\n",
       "\n",
       "    .dataframe thead th {\n",
       "        text-align: right;\n",
       "    }\n",
       "</style>\n",
       "<table border=\"1\" class=\"dataframe\">\n",
       "  <thead>\n",
       "    <tr style=\"text-align: right;\">\n",
       "      <th></th>\n",
       "      <th>age</th>\n",
       "      <th>job</th>\n",
       "      <th>marital</th>\n",
       "      <th>education</th>\n",
       "      <th>default</th>\n",
       "      <th>housing</th>\n",
       "      <th>loan</th>\n",
       "      <th>contact</th>\n",
       "      <th>month</th>\n",
       "      <th>day_of_week</th>\n",
       "      <th>...</th>\n",
       "      <th>previous</th>\n",
       "      <th>poutcome</th>\n",
       "      <th>emp.var.rate</th>\n",
       "      <th>cons.price.idx</th>\n",
       "      <th>cons.conf.idx</th>\n",
       "      <th>euribor3m</th>\n",
       "      <th>nr.employed</th>\n",
       "      <th>y</th>\n",
       "      <th>month-day</th>\n",
       "      <th>log_age</th>\n",
       "    </tr>\n",
       "  </thead>\n",
       "  <tbody>\n",
       "    <tr>\n",
       "      <th>0</th>\n",
       "      <td>56</td>\n",
       "      <td>housemaid</td>\n",
       "      <td>married</td>\n",
       "      <td>basic 4y</td>\n",
       "      <td>no</td>\n",
       "      <td>no</td>\n",
       "      <td>no</td>\n",
       "      <td>telephone</td>\n",
       "      <td>5</td>\n",
       "      <td>mon</td>\n",
       "      <td>...</td>\n",
       "      <td>0</td>\n",
       "      <td>nonexistent</td>\n",
       "      <td>1.1</td>\n",
       "      <td>93.994</td>\n",
       "      <td>-36.4</td>\n",
       "      <td>4.857</td>\n",
       "      <td>5191.0</td>\n",
       "      <td>no</td>\n",
       "      <td>5-mon</td>\n",
       "      <td>4.025352</td>\n",
       "    </tr>\n",
       "    <tr>\n",
       "      <th>1</th>\n",
       "      <td>57</td>\n",
       "      <td>services</td>\n",
       "      <td>married</td>\n",
       "      <td>high school</td>\n",
       "      <td>NaN</td>\n",
       "      <td>no</td>\n",
       "      <td>no</td>\n",
       "      <td>telephone</td>\n",
       "      <td>5</td>\n",
       "      <td>mon</td>\n",
       "      <td>...</td>\n",
       "      <td>0</td>\n",
       "      <td>nonexistent</td>\n",
       "      <td>1.1</td>\n",
       "      <td>93.994</td>\n",
       "      <td>-36.4</td>\n",
       "      <td>4.857</td>\n",
       "      <td>5191.0</td>\n",
       "      <td>no</td>\n",
       "      <td>5-mon</td>\n",
       "      <td>4.043051</td>\n",
       "    </tr>\n",
       "    <tr>\n",
       "      <th>2</th>\n",
       "      <td>37</td>\n",
       "      <td>services</td>\n",
       "      <td>married</td>\n",
       "      <td>high school</td>\n",
       "      <td>no</td>\n",
       "      <td>yes</td>\n",
       "      <td>no</td>\n",
       "      <td>telephone</td>\n",
       "      <td>5</td>\n",
       "      <td>mon</td>\n",
       "      <td>...</td>\n",
       "      <td>0</td>\n",
       "      <td>nonexistent</td>\n",
       "      <td>1.1</td>\n",
       "      <td>93.994</td>\n",
       "      <td>-36.4</td>\n",
       "      <td>4.857</td>\n",
       "      <td>5191.0</td>\n",
       "      <td>no</td>\n",
       "      <td>5-mon</td>\n",
       "      <td>3.610918</td>\n",
       "    </tr>\n",
       "    <tr>\n",
       "      <th>3</th>\n",
       "      <td>40</td>\n",
       "      <td>admin</td>\n",
       "      <td>married</td>\n",
       "      <td>basic 6y</td>\n",
       "      <td>no</td>\n",
       "      <td>no</td>\n",
       "      <td>no</td>\n",
       "      <td>telephone</td>\n",
       "      <td>5</td>\n",
       "      <td>mon</td>\n",
       "      <td>...</td>\n",
       "      <td>0</td>\n",
       "      <td>nonexistent</td>\n",
       "      <td>1.1</td>\n",
       "      <td>93.994</td>\n",
       "      <td>-36.4</td>\n",
       "      <td>4.857</td>\n",
       "      <td>5191.0</td>\n",
       "      <td>no</td>\n",
       "      <td>5-mon</td>\n",
       "      <td>3.688879</td>\n",
       "    </tr>\n",
       "    <tr>\n",
       "      <th>4</th>\n",
       "      <td>56</td>\n",
       "      <td>services</td>\n",
       "      <td>married</td>\n",
       "      <td>high school</td>\n",
       "      <td>no</td>\n",
       "      <td>no</td>\n",
       "      <td>yes</td>\n",
       "      <td>telephone</td>\n",
       "      <td>5</td>\n",
       "      <td>mon</td>\n",
       "      <td>...</td>\n",
       "      <td>0</td>\n",
       "      <td>nonexistent</td>\n",
       "      <td>1.1</td>\n",
       "      <td>93.994</td>\n",
       "      <td>-36.4</td>\n",
       "      <td>4.857</td>\n",
       "      <td>5191.0</td>\n",
       "      <td>no</td>\n",
       "      <td>5-mon</td>\n",
       "      <td>4.025352</td>\n",
       "    </tr>\n",
       "  </tbody>\n",
       "</table>\n",
       "<p>5 rows × 23 columns</p>\n",
       "</div>"
      ],
      "text/plain": [
       "   age        job  marital    education default housing loan    contact  \\\n",
       "0   56  housemaid  married     basic 4y      no      no   no  telephone   \n",
       "1   57   services  married  high school     NaN      no   no  telephone   \n",
       "2   37   services  married  high school      no     yes   no  telephone   \n",
       "3   40      admin  married     basic 6y      no      no   no  telephone   \n",
       "4   56   services  married  high school      no      no  yes  telephone   \n",
       "\n",
       "   month day_of_week  ...  previous     poutcome  emp.var.rate  \\\n",
       "0      5         mon  ...         0  nonexistent           1.1   \n",
       "1      5         mon  ...         0  nonexistent           1.1   \n",
       "2      5         mon  ...         0  nonexistent           1.1   \n",
       "3      5         mon  ...         0  nonexistent           1.1   \n",
       "4      5         mon  ...         0  nonexistent           1.1   \n",
       "\n",
       "   cons.price.idx cons.conf.idx  euribor3m  nr.employed   y  month-day  \\\n",
       "0          93.994         -36.4      4.857       5191.0  no      5-mon   \n",
       "1          93.994         -36.4      4.857       5191.0  no      5-mon   \n",
       "2          93.994         -36.4      4.857       5191.0  no      5-mon   \n",
       "3          93.994         -36.4      4.857       5191.0  no      5-mon   \n",
       "4          93.994         -36.4      4.857       5191.0  no      5-mon   \n",
       "\n",
       "    log_age  \n",
       "0  4.025352  \n",
       "1  4.043051  \n",
       "2  3.610918  \n",
       "3  3.688879  \n",
       "4  4.025352  \n",
       "\n",
       "[5 rows x 23 columns]"
      ]
     },
     "execution_count": 61,
     "metadata": {},
     "output_type": "execute_result"
    }
   ],
   "source": [
    "df.head()"
   ]
  },
  {
   "cell_type": "code",
   "execution_count": 62,
   "id": "d3bd64ac",
   "metadata": {},
   "outputs": [
    {
     "data": {
      "text/plain": [
       "['job',\n",
       " 'marital',\n",
       " 'education',\n",
       " 'default',\n",
       " 'housing',\n",
       " 'loan',\n",
       " 'contact',\n",
       " 'poutcome']"
      ]
     },
     "execution_count": 62,
     "metadata": {},
     "output_type": "execute_result"
    }
   ],
   "source": [
    "categorical_var"
   ]
  },
  {
   "cell_type": "code",
   "execution_count": 63,
   "id": "42cc6b42",
   "metadata": {},
   "outputs": [
    {
     "data": {
      "image/png": "[encoded data removed]",
      "text/plain": [
       "<Figure size 576x432 with 1 Axes>"
      ]
     },
     "metadata": {
      "needs_background": "light"
     },
     "output_type": "display_data"
    },
    {
     "data": {
      "image/png": "[encoded data removed]",
      "text/plain": [
       "<Figure size 576x432 with 1 Axes>"
      ]
     },
     "metadata": {
      "needs_background": "light"
     },
     "output_type": "display_data"
    },
    {
     "data": {
      "image/png": "[encoded data removed]",
      "text/plain": [
       "<Figure size 576x432 with 1 Axes>"
      ]
     },
     "metadata": {
      "needs_background": "light"
     },
     "output_type": "display_data"
    },
    {
     "data": {
      "image/png": "[encoded data removed]",
      "text/plain": [
       "<Figure size 576x432 with 1 Axes>"
      ]
     },
     "metadata": {
      "needs_background": "light"
     },
     "output_type": "display_data"
    },
    {
     "data": {
      "image/png": "[encoded data removed]",
      "text/plain": [
       "<Figure size 576x432 with 1 Axes>"
      ]
     },
     "metadata": {
      "needs_background": "light"
     },
     "output_type": "display_data"
    },
    {
     "data": {
      "image/png": "[encoded data removed]",
      "text/plain": [
       "<Figure size 576x432 with 1 Axes>"
      ]
     },
     "metadata": {
      "needs_background": "light"
     },
     "output_type": "display_data"
    },
    {
     "data": {
      "image/png": "[encoded data removed]",
      "text/plain": [
       "<Figure size 576x432 with 1 Axes>"
      ]
     },
     "metadata": {
      "needs_background": "light"
     },
     "output_type": "display_data"
    },
    {
     "data": {
      "image/png": "[encoded data removed]",
      "text/plain": [
       "<Figure size 576x432 with 1 Axes>"
      ]
     },
     "metadata": {
      "needs_background": "light"
     },
     "output_type": "display_data"
    }
   ],
   "source": [
    "for var in categorical_var:\n",
    "    plt.figure(figsize = (8,6))\n",
    "    total = len(df[var])\n",
    "    sns.set_palette(\"Paired\")\n",
    "    ax = sns.countplot(x = var, data = df, hue = 'y')\n",
    "    for p in ax.patches:\n",
    "        ax.annotate('{:.1f}%'.format(100*p.get_height()/total), (p.get_x()+0.1, p.get_height()+5))\n",
    "    plt.xticks(rotation=90)\n",
    "    plt.show()"
   ]
  },
  {
   "cell_type": "markdown",
   "id": "99d44c58",
   "metadata": {},
   "source": [
    "Points to be Noted: \n",
    "1. The profession whic"
   ]
  },
  {
   "cell_type": "code",
   "execution_count": 64,
   "id": "d5ce9976",
   "metadata": {},
   "outputs": [
    {
     "data": {
      "image/png": "[encoded data removed]",
      "text/plain": [
       "<Figure size 432x288 with 1 Axes>"
      ]
     },
     "metadata": {
      "needs_background": "light"
     },
     "output_type": "display_data"
    },
    {
     "data": {
      "image/png": "[encoded data removed]",
      "text/plain": [
       "<Figure size 432x288 with 1 Axes>"
      ]
     },
     "metadata": {
      "needs_background": "light"
     },
     "output_type": "display_data"
    },
    {
     "data": {
      "image/png": "[encoded data removed]",
      "text/plain": [
       "<Figure size 432x288 with 1 Axes>"
      ]
     },
     "metadata": {
      "needs_background": "light"
     },
     "output_type": "display_data"
    },
    {
     "data": {
      "image/png": "[encoded data removed]",
      "text/plain": [
       "<Figure size 432x288 with 1 Axes>"
      ]
     },
     "metadata": {
      "needs_background": "light"
     },
     "output_type": "display_data"
    },
    {
     "data": {
      "image/png": "[encoded data removed]",
      "text/plain": [
       "<Figure size 432x288 with 1 Axes>"
      ]
     },
     "metadata": {
      "needs_background": "light"
     },
     "output_type": "display_data"
    },
    {
     "data": {
      "image/png": "[encoded data removed]",
      "text/plain": [
       "<Figure size 432x288 with 1 Axes>"
      ]
     },
     "metadata": {
      "needs_background": "light"
     },
     "output_type": "display_data"
    },
    {
     "data": {
      "image/png": "[encoded data removed]",
      "text/plain": [
       "<Figure size 432x288 with 1 Axes>"
      ]
     },
     "metadata": {
      "needs_background": "light"
     },
     "output_type": "display_data"
    },
    {
     "data": {
      "image/png": "[encoded data removed]",
      "text/plain": [
       "<Figure size 432x288 with 1 Axes>"
      ]
     },
     "metadata": {
      "needs_background": "light"
     },
     "output_type": "display_data"
    },
    {
     "data": {
      "image/png": "[encoded data removed]",
      "text/plain": [
       "<Figure size 432x288 with 1 Axes>"
      ]
     },
     "metadata": {
      "needs_background": "light"
     },
     "output_type": "display_data"
    },
    {
     "data": {
      "image/png": "[encoded data removed]",
      "text/plain": [
       "<Figure size 432x288 with 1 Axes>"
      ]
     },
     "metadata": {
      "needs_background": "light"
     },
     "output_type": "display_data"
    }
   ],
   "source": [
    "for var in numerical_var:\n",
    "    sns.boxplot(data = df, y = 'y', x = var, dodge=False)\n",
    "    plt.show()"
   ]
  },
  {
   "cell_type": "markdown",
   "id": "c70267b0",
   "metadata": {},
   "source": [
    "Points to be Noted: \n",
    "1. "
   ]
  },
  {
   "cell_type": "code",
   "execution_count": 65,
   "id": "034f74e4",
   "metadata": {},
   "outputs": [],
   "source": [
    "mask_yes = df[\"y\"] == \"yes\"\n",
    "mask_no = df[\"y\"] == \"no\""
   ]
  },
  {
   "cell_type": "code",
   "execution_count": 66,
   "id": "f7c5a53c",
   "metadata": {},
   "outputs": [],
   "source": [
    "df_y = df[mask_yes]\n",
    "df_n = df[mask_no]"
   ]
  },
  {
   "cell_type": "code",
   "execution_count": 67,
   "id": "b955d401",
   "metadata": {},
   "outputs": [
    {
     "data": {
      "text/plain": [
       "(4593, 23)"
      ]
     },
     "execution_count": 67,
     "metadata": {},
     "output_type": "execute_result"
    }
   ],
   "source": [
    "df_y.shape"
   ]
  },
  {
   "cell_type": "code",
   "execution_count": 68,
   "id": "29809316",
   "metadata": {},
   "outputs": [
    {
     "data": {
      "text/plain": [
       "(36182, 23)"
      ]
     },
     "execution_count": 68,
     "metadata": {},
     "output_type": "execute_result"
    }
   ],
   "source": [
    "df_n.shape"
   ]
  },
  {
   "cell_type": "code",
   "execution_count": 69,
   "id": "fdf68e96",
   "metadata": {},
   "outputs": [
    {
     "data": {
      "image/png": "[encoded data removed]",
      "text/plain": [
       "<Figure size 864x288 with 1 Axes>"
      ]
     },
     "metadata": {
      "needs_background": "light"
     },
     "output_type": "display_data"
    },
    {
     "data": {
      "image/png": "[encoded data removed]",
      "text/plain": [
       "<Figure size 864x288 with 1 Axes>"
      ]
     },
     "metadata": {
      "needs_background": "light"
     },
     "output_type": "display_data"
    },
    {
     "data": {
      "image/png": "[encoded data removed]",
      "text/plain": [
       "<Figure size 864x288 with 1 Axes>"
      ]
     },
     "metadata": {
      "needs_background": "light"
     },
     "output_type": "display_data"
    },
    {
     "data": {
      "image/png": "[encoded data removed]",
      "text/plain": [
       "<Figure size 864x288 with 1 Axes>"
      ]
     },
     "metadata": {
      "needs_background": "light"
     },
     "output_type": "display_data"
    },
    {
     "data": {
      "image/png": "[encoded data removed]",
      "text/plain": [
       "<Figure size 864x288 with 1 Axes>"
      ]
     },
     "metadata": {
      "needs_background": "light"
     },
     "output_type": "display_data"
    },
    {
     "data": {
      "image/png": "[encoded data removed]",
      "text/plain": [
       "<Figure size 864x288 with 1 Axes>"
      ]
     },
     "metadata": {
      "needs_background": "light"
     },
     "output_type": "display_data"
    },
    {
     "data": {
      "image/png": "[encoded data removed]",
      "text/plain": [
       "<Figure size 864x288 with 1 Axes>"
      ]
     },
     "metadata": {
      "needs_background": "light"
     },
     "output_type": "display_data"
    },
    {
     "data": {
      "image/png": "[encoded data removed]",
      "text/plain": [
       "<Figure size 864x288 with 1 Axes>"
      ]
     },
     "metadata": {
      "needs_background": "light"
     },
     "output_type": "display_data"
    }
   ],
   "source": [
    "for var in categorical_var:\n",
    "    \n",
    "    plt.figure(figsize=(12,4))\n",
    "    \n",
    "    # plot transformed variable vs sale price\n",
    "    df_y[var].value_counts(normalize = True).plot(\n",
    "    kind=\"bar\",\n",
    "    xlabel=f\"{var}\",\n",
    "    ylabel=\"% Transactions\",\n",
    "    title=f\"Transactions by {var} (Yes)\"\n",
    "    )\n",
    "                \n",
    "    plt.show()"
   ]
  },
  {
   "cell_type": "markdown",
   "id": "1f304dd3",
   "metadata": {},
   "source": [
    "Points to be Noted: \n",
    "1. "
   ]
  },
  {
   "cell_type": "code",
   "execution_count": 70,
   "id": "e67b7d44",
   "metadata": {},
   "outputs": [
    {
     "data": {
      "image/png": "[encoded data removed]",
      "text/plain": [
       "<Figure size 864x288 with 1 Axes>"
      ]
     },
     "metadata": {
      "needs_background": "light"
     },
     "output_type": "display_data"
    },
    {
     "data": {
      "image/png": "[encoded data removed]",
      "text/plain": [
       "<Figure size 864x288 with 1 Axes>"
      ]
     },
     "metadata": {
      "needs_background": "light"
     },
     "output_type": "display_data"
    },
    {
     "data": {
      "image/png": "[encoded data removed]",
      "text/plain": [
       "<Figure size 864x288 with 1 Axes>"
      ]
     },
     "metadata": {
      "needs_background": "light"
     },
     "output_type": "display_data"
    },
    {
     "data": {
      "image/png": "[encoded data removed]",
      "text/plain": [
       "<Figure size 864x288 with 1 Axes>"
      ]
     },
     "metadata": {
      "needs_background": "light"
     },
     "output_type": "display_data"
    },
    {
     "data": {
      "image/png": "[encoded data removed]",
      "text/plain": [
       "<Figure size 864x288 with 1 Axes>"
      ]
     },
     "metadata": {
      "needs_background": "light"
     },
     "output_type": "display_data"
    },
    {
     "data": {
      "image/png": "[encoded data removed]",
      "text/plain": [
       "<Figure size 864x288 with 1 Axes>"
      ]
     },
     "metadata": {
      "needs_background": "light"
     },
     "output_type": "display_data"
    },
    {
     "data": {
      "image/png": "[encoded data removed]",
      "text/plain": [
       "<Figure size 864x288 with 1 Axes>"
      ]
     },
     "metadata": {
      "needs_background": "light"
     },
     "output_type": "display_data"
    },
    {
     "data": {
      "image/png": "[encoded data removed]",
      "text/plain": [
       "<Figure size 864x288 with 1 Axes>"
      ]
     },
     "metadata": {
      "needs_background": "light"
     },
     "output_type": "display_data"
    }
   ],
   "source": [
    "for var in categorical_var:\n",
    "    \n",
    "    plt.figure(figsize=(12,4))\n",
    "    \n",
    "    # plot transformed variable vs sale price\n",
    "    df_n[var].value_counts(normalize = True).plot(\n",
    "    kind=\"bar\",\n",
    "    xlabel=f\"{var}\",\n",
    "    ylabel=\"% Transactions\",\n",
    "    title=f\"Outcome by {var} (no)\"\n",
    "    )\n",
    "                \n",
    "    plt.show()"
   ]
  },
  {
   "cell_type": "markdown",
   "id": "a0774000",
   "metadata": {},
   "source": [
    "Points to be Noted: \n",
    "1. "
   ]
  },
  {
   "cell_type": "code",
   "execution_count": null,
   "id": "46b458b1",
   "metadata": {},
   "outputs": [],
   "source": []
  }
 ],
 "metadata": {
  "kernelspec": {
   "display_name": "DataGlacier_Project",
   "language": "python",
   "name": "dataglacier_project"
  },
  "language_info": {
   "codemirror_mode": {
    "name": "ipython",
    "version": 3
   },
   "file_extension": ".py",
   "mimetype": "text/x-python",
   "name": "python",
   "nbconvert_exporter": "python",
   "pygments_lexer": "ipython3",
   "version": "3.10.5"
  }
 },
 "nbformat": 4,
 "nbformat_minor": 5
}
